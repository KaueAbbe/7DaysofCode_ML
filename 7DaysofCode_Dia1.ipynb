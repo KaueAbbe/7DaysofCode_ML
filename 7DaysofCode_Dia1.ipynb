{
 "cells": [
  {
   "cell_type": "markdown",
   "id": "c152e728",
   "metadata": {},
   "source": [
    "<font color = 'green' size =6>7 Days Of Code Dia 1: Leitura dos Dados</font>\n",
    "\n",
    "Neste dia vou ler os dados do spotify, corrigir inconsistências como valores faltantes e duplicados, e analisar os dados trazendo algum conhecimento sobre os dados e preparando algo para o modelo de machine learning. \n",
    "\n",
    "Tarefas Neste notebook:\n",
    "1. Verificar Dados Faltantes e Duplicados\n",
    "2. Analisar correlação\n",
    "3. Analisar variáveis Discretas(agrupamento se possível)\n",
    "4. TOPS 5 música, artista e gênero por popularidade\n",
    "5. Normalizar os Dados\n",
    "\n",
    "# Importar Bibliotecas e Ler os Dados\n"
   ]
  },
  {
   "cell_type": "code",
   "execution_count": 1,
   "id": "5a7db119",
   "metadata": {},
   "outputs": [],
   "source": [
    "import numpy as np\n",
    "import pandas as pd\n",
    "import matplotlib.pyplot as plt"
   ]
  },
  {
   "cell_type": "code",
   "execution_count": 2,
   "id": "65e264c2",
   "metadata": {},
   "outputs": [],
   "source": [
    "df = pd.read_csv('https://raw.githubusercontent.com/KaueAbbe/7DaysofCode_ML/main/dataset.csv')"
   ]
  },
  {
   "cell_type": "markdown",
   "id": "ed1ca8e7",
   "metadata": {},
   "source": [
    "# Analise Dados Faltantes e Duplicados"
   ]
  },
  {
   "cell_type": "code",
   "execution_count": 3,
   "id": "d80167b0",
   "metadata": {},
   "outputs": [
    {
     "data": {
      "text/plain": [
       "Index(['Unnamed: 0', 'track_id', 'artists', 'album_name', 'track_name',\n",
       "       'popularity', 'duration_ms', 'explicit', 'danceability', 'energy',\n",
       "       'key', 'loudness', 'mode', 'speechiness', 'acousticness',\n",
       "       'instrumentalness', 'liveness', 'valence', 'tempo', 'time_signature',\n",
       "       'track_genre'],\n",
       "      dtype='object')"
      ]
     },
     "execution_count": 3,
     "metadata": {},
     "output_type": "execute_result"
    }
   ],
   "source": [
    "df.columns"
   ]
  },
  {
   "cell_type": "code",
   "execution_count": 4,
   "id": "fcf63985",
   "metadata": {},
   "outputs": [
    {
     "name": "stdout",
     "output_type": "stream",
     "text": [
      "<class 'pandas.core.frame.DataFrame'>\n",
      "RangeIndex: 114000 entries, 0 to 113999\n",
      "Data columns (total 20 columns):\n",
      " #   Column            Non-Null Count   Dtype  \n",
      "---  ------            --------------   -----  \n",
      " 0   track_id          114000 non-null  object \n",
      " 1   artists           113999 non-null  object \n",
      " 2   album_name        113999 non-null  object \n",
      " 3   track_name        113999 non-null  object \n",
      " 4   popularity        114000 non-null  int64  \n",
      " 5   duration_ms       114000 non-null  int64  \n",
      " 6   explicit          114000 non-null  bool   \n",
      " 7   danceability      114000 non-null  float64\n",
      " 8   energy            114000 non-null  float64\n",
      " 9   key               114000 non-null  int64  \n",
      " 10  loudness          114000 non-null  float64\n",
      " 11  mode              114000 non-null  int64  \n",
      " 12  speechiness       114000 non-null  float64\n",
      " 13  acousticness      114000 non-null  float64\n",
      " 14  instrumentalness  114000 non-null  float64\n",
      " 15  liveness          114000 non-null  float64\n",
      " 16  valence           114000 non-null  float64\n",
      " 17  tempo             114000 non-null  float64\n",
      " 18  time_signature    114000 non-null  int64  \n",
      " 19  track_genre       114000 non-null  object \n",
      "dtypes: bool(1), float64(9), int64(5), object(5)\n",
      "memory usage: 16.6+ MB\n"
     ]
    }
   ],
   "source": [
    "df.drop('Unnamed: 0', axis = 1, inplace = True)\n",
    "df.info()"
   ]
  },
  {
   "cell_type": "code",
   "execution_count": 5,
   "id": "92b9cfd2",
   "metadata": {},
   "outputs": [
    {
     "data": {
      "text/html": [
       "<div>\n",
       "<style scoped>\n",
       "    .dataframe tbody tr th:only-of-type {\n",
       "        vertical-align: middle;\n",
       "    }\n",
       "\n",
       "    .dataframe tbody tr th {\n",
       "        vertical-align: top;\n",
       "    }\n",
       "\n",
       "    .dataframe thead th {\n",
       "        text-align: right;\n",
       "    }\n",
       "</style>\n",
       "<table border=\"1\" class=\"dataframe\">\n",
       "  <thead>\n",
       "    <tr style=\"text-align: right;\">\n",
       "      <th></th>\n",
       "      <th>track_id</th>\n",
       "      <th>artists</th>\n",
       "      <th>album_name</th>\n",
       "      <th>track_name</th>\n",
       "      <th>popularity</th>\n",
       "      <th>duration_ms</th>\n",
       "      <th>explicit</th>\n",
       "      <th>danceability</th>\n",
       "      <th>energy</th>\n",
       "      <th>key</th>\n",
       "      <th>loudness</th>\n",
       "      <th>mode</th>\n",
       "      <th>speechiness</th>\n",
       "      <th>acousticness</th>\n",
       "      <th>instrumentalness</th>\n",
       "      <th>liveness</th>\n",
       "      <th>valence</th>\n",
       "      <th>tempo</th>\n",
       "      <th>time_signature</th>\n",
       "      <th>track_genre</th>\n",
       "    </tr>\n",
       "  </thead>\n",
       "  <tbody>\n",
       "    <tr>\n",
       "      <th>65900</th>\n",
       "      <td>1kR4gIb7nGxHPI3D2ifs59</td>\n",
       "      <td>NaN</td>\n",
       "      <td>NaN</td>\n",
       "      <td>NaN</td>\n",
       "      <td>0</td>\n",
       "      <td>0</td>\n",
       "      <td>False</td>\n",
       "      <td>0.501</td>\n",
       "      <td>0.583</td>\n",
       "      <td>7</td>\n",
       "      <td>-9.46</td>\n",
       "      <td>0</td>\n",
       "      <td>0.0605</td>\n",
       "      <td>0.69</td>\n",
       "      <td>0.00396</td>\n",
       "      <td>0.0747</td>\n",
       "      <td>0.734</td>\n",
       "      <td>138.391</td>\n",
       "      <td>4</td>\n",
       "      <td>k-pop</td>\n",
       "    </tr>\n",
       "  </tbody>\n",
       "</table>\n",
       "</div>"
      ],
      "text/plain": [
       "                     track_id artists album_name track_name  popularity  \\\n",
       "65900  1kR4gIb7nGxHPI3D2ifs59     NaN        NaN        NaN           0   \n",
       "\n",
       "       duration_ms  explicit  danceability  energy  key  loudness  mode  \\\n",
       "65900            0     False         0.501   0.583    7     -9.46     0   \n",
       "\n",
       "       speechiness  acousticness  instrumentalness  liveness  valence  \\\n",
       "65900       0.0605          0.69           0.00396    0.0747    0.734   \n",
       "\n",
       "         tempo  time_signature track_genre  \n",
       "65900  138.391               4       k-pop  "
      ]
     },
     "execution_count": 5,
     "metadata": {},
     "output_type": "execute_result"
    }
   ],
   "source": [
    "df[df['artists'].isna()]"
   ]
  },
  {
   "cell_type": "markdown",
   "id": "dc3a2cf5",
   "metadata": {},
   "source": [
    "Vou usar a API do spotify para procurar o nome do artista, album e da track."
   ]
  },
  {
   "cell_type": "code",
   "execution_count": 6,
   "id": "626d6060",
   "metadata": {},
   "outputs": [
    {
     "name": "stdout",
     "output_type": "stream",
     "text": [
      "Requirement already satisfied: spotipy in c:\\users\\kauea\\anaconda3\\lib\\site-packages (2.23.0)\n",
      "Requirement already satisfied: six>=1.15.0 in c:\\users\\kauea\\anaconda3\\lib\\site-packages (from spotipy) (1.16.0)\n",
      "Requirement already satisfied: urllib3>=1.26.0 in c:\\users\\kauea\\anaconda3\\lib\\site-packages (from spotipy) (1.26.9)\n",
      "Requirement already satisfied: requests>=2.25.0 in c:\\users\\kauea\\anaconda3\\lib\\site-packages (from spotipy) (2.27.1)\n",
      "Requirement already satisfied: redis>=3.5.3 in c:\\users\\kauea\\anaconda3\\lib\\site-packages (from spotipy) (4.5.4)\n",
      "Requirement already satisfied: async-timeout>=4.0.2 in c:\\users\\kauea\\anaconda3\\lib\\site-packages (from redis>=3.5.3->spotipy) (4.0.2)\n",
      "Requirement already satisfied: certifi>=2017.4.17 in c:\\users\\kauea\\anaconda3\\lib\\site-packages (from requests>=2.25.0->spotipy) (2021.10.8)\n",
      "Requirement already satisfied: idna<4,>=2.5 in c:\\users\\kauea\\anaconda3\\lib\\site-packages (from requests>=2.25.0->spotipy) (3.3)\n",
      "Requirement already satisfied: charset-normalizer~=2.0.0 in c:\\users\\kauea\\anaconda3\\lib\\site-packages (from requests>=2.25.0->spotipy) (2.0.4)\n"
     ]
    }
   ],
   "source": [
    "!pip install spotipy"
   ]
  },
  {
   "cell_type": "code",
   "execution_count": 7,
   "id": "a4e587ea",
   "metadata": {},
   "outputs": [],
   "source": [
    "import spotipy\n",
    "from spotipy.oauth2 import SpotifyOAuth, SpotifyClientCredentials"
   ]
  },
  {
   "cell_type": "code",
   "execution_count": 8,
   "id": "817d154b",
   "metadata": {},
   "outputs": [],
   "source": [
    "scope = 'user-library-read playlist-modify-private'\n",
    "OAuth = SpotifyOAuth(\n",
    "    scope = scope,\n",
    "    redirect_uri='http://localhost:8888/callback',\n",
    "    client_id ='904ca16165464eaf87beb360bfe9b30f',\n",
    "    client_secret = '0e5baa0ffcd949a69398c8e564775dcb'\n",
    ")\n",
    "\n",
    "client_credentials_manager = SpotifyClientCredentials(client_id = '904ca16165464eaf87beb360bfe9b30f',client_secret = '0e5baa0ffcd949a69398c8e564775dcb')\n",
    "sp = spotipy.Spotify(client_credentials_manager = client_credentials_manager)"
   ]
  },
  {
   "cell_type": "code",
   "execution_count": 9,
   "id": "1a7f2c10",
   "metadata": {},
   "outputs": [],
   "source": [
    "artista = sp.artists('1kR4gIb7nGxHPI3D2ifs59')"
   ]
  },
  {
   "cell_type": "code",
   "execution_count": 10,
   "id": "1a7ee162",
   "metadata": {},
   "outputs": [
    {
     "data": {
      "text/plain": [
       "{'artists': [None,\n",
       "  None,\n",
       "  None,\n",
       "  None,\n",
       "  None,\n",
       "  None,\n",
       "  None,\n",
       "  None,\n",
       "  None,\n",
       "  None,\n",
       "  None,\n",
       "  None,\n",
       "  None,\n",
       "  None,\n",
       "  None,\n",
       "  None,\n",
       "  None,\n",
       "  None,\n",
       "  None,\n",
       "  None,\n",
       "  None,\n",
       "  None]}"
      ]
     },
     "execution_count": 10,
     "metadata": {},
     "output_type": "execute_result"
    }
   ],
   "source": [
    "artista"
   ]
  },
  {
   "cell_type": "markdown",
   "id": "126c351a",
   "metadata": {},
   "source": [
    "Pelo que procurei realmente não existe o que procurei. Esta linha então ficará com com o valor missing. \n",
    "A inexistência dos nomes não é algo que possa comprometer as análises, já que são nomes e não valores que caracterizam as músicas. Deixarei a linha inalterada, mas tenho que me lembrar que caso vá fazer um recomendado, por exemplo, tenho que retirar essa música sem nome. "
   ]
  },
  {
   "cell_type": "code",
   "execution_count": 11,
   "id": "11257a76",
   "metadata": {},
   "outputs": [
    {
     "name": "stdout",
     "output_type": "stream",
     "text": [
      "<class 'pandas.core.frame.DataFrame'>\n",
      "Int64Index: 113550 entries, 0 to 113999\n",
      "Data columns (total 20 columns):\n",
      " #   Column            Non-Null Count   Dtype  \n",
      "---  ------            --------------   -----  \n",
      " 0   track_id          113550 non-null  object \n",
      " 1   artists           113549 non-null  object \n",
      " 2   album_name        113549 non-null  object \n",
      " 3   track_name        113549 non-null  object \n",
      " 4   popularity        113550 non-null  int64  \n",
      " 5   duration_ms       113550 non-null  int64  \n",
      " 6   explicit          113550 non-null  bool   \n",
      " 7   danceability      113550 non-null  float64\n",
      " 8   energy            113550 non-null  float64\n",
      " 9   key               113550 non-null  int64  \n",
      " 10  loudness          113550 non-null  float64\n",
      " 11  mode              113550 non-null  int64  \n",
      " 12  speechiness       113550 non-null  float64\n",
      " 13  acousticness      113550 non-null  float64\n",
      " 14  instrumentalness  113550 non-null  float64\n",
      " 15  liveness          113550 non-null  float64\n",
      " 16  valence           113550 non-null  float64\n",
      " 17  tempo             113550 non-null  float64\n",
      " 18  time_signature    113550 non-null  int64  \n",
      " 19  track_genre       113550 non-null  object \n",
      "dtypes: bool(1), float64(9), int64(5), object(5)\n",
      "memory usage: 17.4+ MB\n"
     ]
    }
   ],
   "source": [
    "df.drop_duplicates(inplace=True)\n",
    "df.info()"
   ]
  },
  {
   "cell_type": "markdown",
   "id": "9efe16ac",
   "metadata": {},
   "source": [
    "# Descrição dos dados e Correlação de dados contínuos\n",
    "Olhe valores máximos, mínimos e médias para as colunas de variáveis contínuas.\n",
    "\n",
    "## Descrevendo Variáveis:\n",
    "* **Discretas**:Mode e Explicit\n",
    "* **Contínuas**: Os restante\n"
   ]
  },
  {
   "cell_type": "code",
   "execution_count": 12,
   "id": "abdc6601",
   "metadata": {},
   "outputs": [
    {
     "data": {
      "text/html": [
       "<div>\n",
       "<style scoped>\n",
       "    .dataframe tbody tr th:only-of-type {\n",
       "        vertical-align: middle;\n",
       "    }\n",
       "\n",
       "    .dataframe tbody tr th {\n",
       "        vertical-align: top;\n",
       "    }\n",
       "\n",
       "    .dataframe thead th {\n",
       "        text-align: right;\n",
       "    }\n",
       "</style>\n",
       "<table border=\"1\" class=\"dataframe\">\n",
       "  <thead>\n",
       "    <tr style=\"text-align: right;\">\n",
       "      <th></th>\n",
       "      <th>track_id</th>\n",
       "      <th>artists</th>\n",
       "      <th>album_name</th>\n",
       "      <th>track_name</th>\n",
       "      <th>popularity</th>\n",
       "      <th>duration_ms</th>\n",
       "      <th>explicit</th>\n",
       "      <th>danceability</th>\n",
       "      <th>energy</th>\n",
       "      <th>key</th>\n",
       "      <th>loudness</th>\n",
       "      <th>mode</th>\n",
       "      <th>speechiness</th>\n",
       "      <th>acousticness</th>\n",
       "      <th>instrumentalness</th>\n",
       "      <th>liveness</th>\n",
       "      <th>valence</th>\n",
       "      <th>tempo</th>\n",
       "      <th>time_signature</th>\n",
       "      <th>track_genre</th>\n",
       "    </tr>\n",
       "  </thead>\n",
       "  <tbody>\n",
       "    <tr>\n",
       "      <th>0</th>\n",
       "      <td>5SuOikwiRyPMVoIQDJUgSV</td>\n",
       "      <td>Gen Hoshino</td>\n",
       "      <td>Comedy</td>\n",
       "      <td>Comedy</td>\n",
       "      <td>73</td>\n",
       "      <td>230666</td>\n",
       "      <td>False</td>\n",
       "      <td>0.676</td>\n",
       "      <td>0.4610</td>\n",
       "      <td>1</td>\n",
       "      <td>-6.746</td>\n",
       "      <td>0</td>\n",
       "      <td>0.1430</td>\n",
       "      <td>0.0322</td>\n",
       "      <td>0.000001</td>\n",
       "      <td>0.3580</td>\n",
       "      <td>0.715</td>\n",
       "      <td>87.917</td>\n",
       "      <td>4</td>\n",
       "      <td>acoustic</td>\n",
       "    </tr>\n",
       "    <tr>\n",
       "      <th>1</th>\n",
       "      <td>4qPNDBW1i3p13qLCt0Ki3A</td>\n",
       "      <td>Ben Woodward</td>\n",
       "      <td>Ghost (Acoustic)</td>\n",
       "      <td>Ghost - Acoustic</td>\n",
       "      <td>55</td>\n",
       "      <td>149610</td>\n",
       "      <td>False</td>\n",
       "      <td>0.420</td>\n",
       "      <td>0.1660</td>\n",
       "      <td>1</td>\n",
       "      <td>-17.235</td>\n",
       "      <td>1</td>\n",
       "      <td>0.0763</td>\n",
       "      <td>0.9240</td>\n",
       "      <td>0.000006</td>\n",
       "      <td>0.1010</td>\n",
       "      <td>0.267</td>\n",
       "      <td>77.489</td>\n",
       "      <td>4</td>\n",
       "      <td>acoustic</td>\n",
       "    </tr>\n",
       "    <tr>\n",
       "      <th>2</th>\n",
       "      <td>1iJBSr7s7jYXzM8EGcbK5b</td>\n",
       "      <td>Ingrid Michaelson;ZAYN</td>\n",
       "      <td>To Begin Again</td>\n",
       "      <td>To Begin Again</td>\n",
       "      <td>57</td>\n",
       "      <td>210826</td>\n",
       "      <td>False</td>\n",
       "      <td>0.438</td>\n",
       "      <td>0.3590</td>\n",
       "      <td>0</td>\n",
       "      <td>-9.734</td>\n",
       "      <td>1</td>\n",
       "      <td>0.0557</td>\n",
       "      <td>0.2100</td>\n",
       "      <td>0.000000</td>\n",
       "      <td>0.1170</td>\n",
       "      <td>0.120</td>\n",
       "      <td>76.332</td>\n",
       "      <td>4</td>\n",
       "      <td>acoustic</td>\n",
       "    </tr>\n",
       "    <tr>\n",
       "      <th>3</th>\n",
       "      <td>6lfxq3CG4xtTiEg7opyCyx</td>\n",
       "      <td>Kina Grannis</td>\n",
       "      <td>Crazy Rich Asians (Original Motion Picture Sou...</td>\n",
       "      <td>Can't Help Falling In Love</td>\n",
       "      <td>71</td>\n",
       "      <td>201933</td>\n",
       "      <td>False</td>\n",
       "      <td>0.266</td>\n",
       "      <td>0.0596</td>\n",
       "      <td>0</td>\n",
       "      <td>-18.515</td>\n",
       "      <td>1</td>\n",
       "      <td>0.0363</td>\n",
       "      <td>0.9050</td>\n",
       "      <td>0.000071</td>\n",
       "      <td>0.1320</td>\n",
       "      <td>0.143</td>\n",
       "      <td>181.740</td>\n",
       "      <td>3</td>\n",
       "      <td>acoustic</td>\n",
       "    </tr>\n",
       "    <tr>\n",
       "      <th>4</th>\n",
       "      <td>5vjLSffimiIP26QG5WcN2K</td>\n",
       "      <td>Chord Overstreet</td>\n",
       "      <td>Hold On</td>\n",
       "      <td>Hold On</td>\n",
       "      <td>82</td>\n",
       "      <td>198853</td>\n",
       "      <td>False</td>\n",
       "      <td>0.618</td>\n",
       "      <td>0.4430</td>\n",
       "      <td>2</td>\n",
       "      <td>-9.681</td>\n",
       "      <td>1</td>\n",
       "      <td>0.0526</td>\n",
       "      <td>0.4690</td>\n",
       "      <td>0.000000</td>\n",
       "      <td>0.0829</td>\n",
       "      <td>0.167</td>\n",
       "      <td>119.949</td>\n",
       "      <td>4</td>\n",
       "      <td>acoustic</td>\n",
       "    </tr>\n",
       "  </tbody>\n",
       "</table>\n",
       "</div>"
      ],
      "text/plain": [
       "                 track_id                 artists  \\\n",
       "0  5SuOikwiRyPMVoIQDJUgSV             Gen Hoshino   \n",
       "1  4qPNDBW1i3p13qLCt0Ki3A            Ben Woodward   \n",
       "2  1iJBSr7s7jYXzM8EGcbK5b  Ingrid Michaelson;ZAYN   \n",
       "3  6lfxq3CG4xtTiEg7opyCyx            Kina Grannis   \n",
       "4  5vjLSffimiIP26QG5WcN2K        Chord Overstreet   \n",
       "\n",
       "                                          album_name  \\\n",
       "0                                             Comedy   \n",
       "1                                   Ghost (Acoustic)   \n",
       "2                                     To Begin Again   \n",
       "3  Crazy Rich Asians (Original Motion Picture Sou...   \n",
       "4                                            Hold On   \n",
       "\n",
       "                   track_name  popularity  duration_ms  explicit  \\\n",
       "0                      Comedy          73       230666     False   \n",
       "1            Ghost - Acoustic          55       149610     False   \n",
       "2              To Begin Again          57       210826     False   \n",
       "3  Can't Help Falling In Love          71       201933     False   \n",
       "4                     Hold On          82       198853     False   \n",
       "\n",
       "   danceability  energy  key  loudness  mode  speechiness  acousticness  \\\n",
       "0         0.676  0.4610    1    -6.746     0       0.1430        0.0322   \n",
       "1         0.420  0.1660    1   -17.235     1       0.0763        0.9240   \n",
       "2         0.438  0.3590    0    -9.734     1       0.0557        0.2100   \n",
       "3         0.266  0.0596    0   -18.515     1       0.0363        0.9050   \n",
       "4         0.618  0.4430    2    -9.681     1       0.0526        0.4690   \n",
       "\n",
       "   instrumentalness  liveness  valence    tempo  time_signature track_genre  \n",
       "0          0.000001    0.3580    0.715   87.917               4    acoustic  \n",
       "1          0.000006    0.1010    0.267   77.489               4    acoustic  \n",
       "2          0.000000    0.1170    0.120   76.332               4    acoustic  \n",
       "3          0.000071    0.1320    0.143  181.740               3    acoustic  \n",
       "4          0.000000    0.0829    0.167  119.949               4    acoustic  "
      ]
     },
     "execution_count": 12,
     "metadata": {},
     "output_type": "execute_result"
    }
   ],
   "source": [
    "df.head()"
   ]
  },
  {
   "cell_type": "code",
   "execution_count": 13,
   "id": "f00e285b",
   "metadata": {},
   "outputs": [
    {
     "name": "stdout",
     "output_type": "stream",
     "text": [
      "track_id : 89741\n",
      "artists : 31438\n",
      "album_name : 46590\n",
      "track_name : 73609\n",
      "popularity : 101\n",
      "duration_ms : 50697\n",
      "explicit : 2\n",
      "danceability : 1174\n",
      "energy : 2083\n",
      "key : 12\n",
      "loudness : 19480\n",
      "mode : 2\n",
      "speechiness : 1489\n",
      "acousticness : 5061\n",
      "instrumentalness : 5346\n",
      "liveness : 1722\n",
      "valence : 1790\n",
      "tempo : 45653\n",
      "time_signature : 5\n",
      "track_genre : 114\n"
     ]
    }
   ],
   "source": [
    "for i in df.columns:\n",
    "    print(i,':', len(df[i].unique()))"
   ]
  },
  {
   "cell_type": "code",
   "execution_count": 14,
   "id": "18aee35b",
   "metadata": {},
   "outputs": [
    {
     "data": {
      "text/plain": [
       "Run Rudolph Run                   151\n",
       "Halloween                          88\n",
       "Frosty The Snowman                 80\n",
       "Little Saint Nick - 1991 Remix     74\n",
       "Christmas Time                     72\n",
       "                                 ... \n",
       "Svarta Lådan                        1\n",
       "Vita små moln                       1\n",
       "Klubbland (Live)                    1\n",
       "Häromkring                          1\n",
       "Barbincor                           1\n",
       "Name: track_name, Length: 73608, dtype: int64"
      ]
     },
     "execution_count": 14,
     "metadata": {},
     "output_type": "execute_result"
    }
   ],
   "source": [
    "df['track_name'].value_counts()"
   ]
  },
  {
   "cell_type": "code",
   "execution_count": 15,
   "id": "14c8040f",
   "metadata": {},
   "outputs": [
    {
     "data": {
      "text/html": [
       "<div>\n",
       "<style scoped>\n",
       "    .dataframe tbody tr th:only-of-type {\n",
       "        vertical-align: middle;\n",
       "    }\n",
       "\n",
       "    .dataframe tbody tr th {\n",
       "        vertical-align: top;\n",
       "    }\n",
       "\n",
       "    .dataframe thead th {\n",
       "        text-align: right;\n",
       "    }\n",
       "</style>\n",
       "<table border=\"1\" class=\"dataframe\">\n",
       "  <thead>\n",
       "    <tr style=\"text-align: right;\">\n",
       "      <th></th>\n",
       "      <th>track_id</th>\n",
       "      <th>artists</th>\n",
       "      <th>album_name</th>\n",
       "      <th>track_name</th>\n",
       "      <th>popularity</th>\n",
       "      <th>duration_ms</th>\n",
       "      <th>explicit</th>\n",
       "      <th>danceability</th>\n",
       "      <th>energy</th>\n",
       "      <th>key</th>\n",
       "      <th>loudness</th>\n",
       "      <th>mode</th>\n",
       "      <th>speechiness</th>\n",
       "      <th>acousticness</th>\n",
       "      <th>instrumentalness</th>\n",
       "      <th>liveness</th>\n",
       "      <th>valence</th>\n",
       "      <th>tempo</th>\n",
       "      <th>time_signature</th>\n",
       "      <th>track_genre</th>\n",
       "    </tr>\n",
       "  </thead>\n",
       "  <tbody>\n",
       "    <tr>\n",
       "      <th>2783</th>\n",
       "      <td>6TeJ52WYcJT92bO95BY17u</td>\n",
       "      <td>Siouxsie and the Banshees</td>\n",
       "      <td>Halloween Scary Party</td>\n",
       "      <td>Halloween</td>\n",
       "      <td>0</td>\n",
       "      <td>221466</td>\n",
       "      <td>False</td>\n",
       "      <td>0.223</td>\n",
       "      <td>0.910</td>\n",
       "      <td>7</td>\n",
       "      <td>-7.097</td>\n",
       "      <td>1</td>\n",
       "      <td>0.080</td>\n",
       "      <td>0.01160</td>\n",
       "      <td>0.000518</td>\n",
       "      <td>0.2120</td>\n",
       "      <td>0.364</td>\n",
       "      <td>171.750</td>\n",
       "      <td>4</td>\n",
       "      <td>alt-rock</td>\n",
       "    </tr>\n",
       "    <tr>\n",
       "      <th>2787</th>\n",
       "      <td>2drouoeVvVzz5cRfe9VK8W</td>\n",
       "      <td>Siouxsie and the Banshees</td>\n",
       "      <td>Halloween Songs | Witches Hour</td>\n",
       "      <td>Halloween</td>\n",
       "      <td>1</td>\n",
       "      <td>221466</td>\n",
       "      <td>False</td>\n",
       "      <td>0.223</td>\n",
       "      <td>0.910</td>\n",
       "      <td>7</td>\n",
       "      <td>-7.097</td>\n",
       "      <td>1</td>\n",
       "      <td>0.080</td>\n",
       "      <td>0.01160</td>\n",
       "      <td>0.000518</td>\n",
       "      <td>0.2120</td>\n",
       "      <td>0.364</td>\n",
       "      <td>171.750</td>\n",
       "      <td>4</td>\n",
       "      <td>alt-rock</td>\n",
       "    </tr>\n",
       "    <tr>\n",
       "      <th>2788</th>\n",
       "      <td>2u65iUSn9AerEa26a4HBPD</td>\n",
       "      <td>Siouxsie and the Banshees</td>\n",
       "      <td>Rock &amp; Halloween</td>\n",
       "      <td>Halloween</td>\n",
       "      <td>2</td>\n",
       "      <td>221466</td>\n",
       "      <td>False</td>\n",
       "      <td>0.223</td>\n",
       "      <td>0.910</td>\n",
       "      <td>7</td>\n",
       "      <td>-7.097</td>\n",
       "      <td>1</td>\n",
       "      <td>0.080</td>\n",
       "      <td>0.01160</td>\n",
       "      <td>0.000518</td>\n",
       "      <td>0.2120</td>\n",
       "      <td>0.364</td>\n",
       "      <td>171.750</td>\n",
       "      <td>4</td>\n",
       "      <td>alt-rock</td>\n",
       "    </tr>\n",
       "    <tr>\n",
       "      <th>2790</th>\n",
       "      <td>0ufcuftmmSD0iWt75nn9Oy</td>\n",
       "      <td>Siouxsie and the Banshees</td>\n",
       "      <td>Anthems for Witches 2022</td>\n",
       "      <td>Halloween</td>\n",
       "      <td>0</td>\n",
       "      <td>221466</td>\n",
       "      <td>False</td>\n",
       "      <td>0.223</td>\n",
       "      <td>0.910</td>\n",
       "      <td>7</td>\n",
       "      <td>-7.097</td>\n",
       "      <td>1</td>\n",
       "      <td>0.080</td>\n",
       "      <td>0.01160</td>\n",
       "      <td>0.000518</td>\n",
       "      <td>0.2120</td>\n",
       "      <td>0.364</td>\n",
       "      <td>171.750</td>\n",
       "      <td>4</td>\n",
       "      <td>alt-rock</td>\n",
       "    </tr>\n",
       "    <tr>\n",
       "      <th>2793</th>\n",
       "      <td>0E3GkSUYpQCjwP8XDB5g5r</td>\n",
       "      <td>Siouxsie and the Banshees</td>\n",
       "      <td>Happy Haunted Halloween Tunes</td>\n",
       "      <td>Halloween</td>\n",
       "      <td>1</td>\n",
       "      <td>221466</td>\n",
       "      <td>False</td>\n",
       "      <td>0.223</td>\n",
       "      <td>0.910</td>\n",
       "      <td>7</td>\n",
       "      <td>-7.097</td>\n",
       "      <td>1</td>\n",
       "      <td>0.080</td>\n",
       "      <td>0.01160</td>\n",
       "      <td>0.000518</td>\n",
       "      <td>0.2120</td>\n",
       "      <td>0.364</td>\n",
       "      <td>171.750</td>\n",
       "      <td>4</td>\n",
       "      <td>alt-rock</td>\n",
       "    </tr>\n",
       "    <tr>\n",
       "      <th>...</th>\n",
       "      <td>...</td>\n",
       "      <td>...</td>\n",
       "      <td>...</td>\n",
       "      <td>...</td>\n",
       "      <td>...</td>\n",
       "      <td>...</td>\n",
       "      <td>...</td>\n",
       "      <td>...</td>\n",
       "      <td>...</td>\n",
       "      <td>...</td>\n",
       "      <td>...</td>\n",
       "      <td>...</td>\n",
       "      <td>...</td>\n",
       "      <td>...</td>\n",
       "      <td>...</td>\n",
       "      <td>...</td>\n",
       "      <td>...</td>\n",
       "      <td>...</td>\n",
       "      <td>...</td>\n",
       "      <td>...</td>\n",
       "    </tr>\n",
       "    <tr>\n",
       "      <th>100004</th>\n",
       "      <td>6G2IXaarVeVde7CaMOxvNh</td>\n",
       "      <td>AFI</td>\n",
       "      <td>Rock &amp; Halloween</td>\n",
       "      <td>Halloween</td>\n",
       "      <td>2</td>\n",
       "      <td>238106</td>\n",
       "      <td>False</td>\n",
       "      <td>0.286</td>\n",
       "      <td>0.929</td>\n",
       "      <td>11</td>\n",
       "      <td>-8.494</td>\n",
       "      <td>0</td>\n",
       "      <td>0.091</td>\n",
       "      <td>0.00231</td>\n",
       "      <td>0.000740</td>\n",
       "      <td>0.0946</td>\n",
       "      <td>0.127</td>\n",
       "      <td>99.762</td>\n",
       "      <td>4</td>\n",
       "      <td>ska</td>\n",
       "    </tr>\n",
       "    <tr>\n",
       "      <th>100006</th>\n",
       "      <td>1tdazGttmzXdBP3fj1kQr6</td>\n",
       "      <td>AFI</td>\n",
       "      <td>Spooky Scary Season</td>\n",
       "      <td>Halloween</td>\n",
       "      <td>0</td>\n",
       "      <td>238106</td>\n",
       "      <td>False</td>\n",
       "      <td>0.286</td>\n",
       "      <td>0.929</td>\n",
       "      <td>11</td>\n",
       "      <td>-8.494</td>\n",
       "      <td>0</td>\n",
       "      <td>0.091</td>\n",
       "      <td>0.00231</td>\n",
       "      <td>0.000740</td>\n",
       "      <td>0.0946</td>\n",
       "      <td>0.127</td>\n",
       "      <td>99.762</td>\n",
       "      <td>4</td>\n",
       "      <td>ska</td>\n",
       "    </tr>\n",
       "    <tr>\n",
       "      <th>100007</th>\n",
       "      <td>1HkRBvClGlCu8s2CCX9QGM</td>\n",
       "      <td>AFI</td>\n",
       "      <td>Halloween Scary Party</td>\n",
       "      <td>Halloween</td>\n",
       "      <td>0</td>\n",
       "      <td>238106</td>\n",
       "      <td>False</td>\n",
       "      <td>0.286</td>\n",
       "      <td>0.929</td>\n",
       "      <td>11</td>\n",
       "      <td>-8.494</td>\n",
       "      <td>0</td>\n",
       "      <td>0.091</td>\n",
       "      <td>0.00231</td>\n",
       "      <td>0.000740</td>\n",
       "      <td>0.0946</td>\n",
       "      <td>0.127</td>\n",
       "      <td>99.762</td>\n",
       "      <td>4</td>\n",
       "      <td>ska</td>\n",
       "    </tr>\n",
       "    <tr>\n",
       "      <th>100008</th>\n",
       "      <td>57jD6Or02RD8uTV2AmdET4</td>\n",
       "      <td>AFI</td>\n",
       "      <td>Halloween Songs | Witches Hour</td>\n",
       "      <td>Halloween</td>\n",
       "      <td>0</td>\n",
       "      <td>238106</td>\n",
       "      <td>False</td>\n",
       "      <td>0.286</td>\n",
       "      <td>0.929</td>\n",
       "      <td>11</td>\n",
       "      <td>-8.494</td>\n",
       "      <td>0</td>\n",
       "      <td>0.091</td>\n",
       "      <td>0.00231</td>\n",
       "      <td>0.000740</td>\n",
       "      <td>0.0946</td>\n",
       "      <td>0.127</td>\n",
       "      <td>99.762</td>\n",
       "      <td>4</td>\n",
       "      <td>ska</td>\n",
       "    </tr>\n",
       "    <tr>\n",
       "      <th>100011</th>\n",
       "      <td>3IExS9dCfDAVCRY0Tq4qw7</td>\n",
       "      <td>AFI</td>\n",
       "      <td>Halloween Kids Party 2022</td>\n",
       "      <td>Halloween</td>\n",
       "      <td>0</td>\n",
       "      <td>238106</td>\n",
       "      <td>False</td>\n",
       "      <td>0.286</td>\n",
       "      <td>0.929</td>\n",
       "      <td>11</td>\n",
       "      <td>-8.494</td>\n",
       "      <td>0</td>\n",
       "      <td>0.091</td>\n",
       "      <td>0.00231</td>\n",
       "      <td>0.000740</td>\n",
       "      <td>0.0946</td>\n",
       "      <td>0.127</td>\n",
       "      <td>99.762</td>\n",
       "      <td>4</td>\n",
       "      <td>ska</td>\n",
       "    </tr>\n",
       "  </tbody>\n",
       "</table>\n",
       "<p>88 rows × 20 columns</p>\n",
       "</div>"
      ],
      "text/plain": [
       "                      track_id                    artists  \\\n",
       "2783    6TeJ52WYcJT92bO95BY17u  Siouxsie and the Banshees   \n",
       "2787    2drouoeVvVzz5cRfe9VK8W  Siouxsie and the Banshees   \n",
       "2788    2u65iUSn9AerEa26a4HBPD  Siouxsie and the Banshees   \n",
       "2790    0ufcuftmmSD0iWt75nn9Oy  Siouxsie and the Banshees   \n",
       "2793    0E3GkSUYpQCjwP8XDB5g5r  Siouxsie and the Banshees   \n",
       "...                        ...                        ...   \n",
       "100004  6G2IXaarVeVde7CaMOxvNh                        AFI   \n",
       "100006  1tdazGttmzXdBP3fj1kQr6                        AFI   \n",
       "100007  1HkRBvClGlCu8s2CCX9QGM                        AFI   \n",
       "100008  57jD6Or02RD8uTV2AmdET4                        AFI   \n",
       "100011  3IExS9dCfDAVCRY0Tq4qw7                        AFI   \n",
       "\n",
       "                            album_name track_name  popularity  duration_ms  \\\n",
       "2783             Halloween Scary Party  Halloween           0       221466   \n",
       "2787    Halloween Songs | Witches Hour  Halloween           1       221466   \n",
       "2788                  Rock & Halloween  Halloween           2       221466   \n",
       "2790          Anthems for Witches 2022  Halloween           0       221466   \n",
       "2793     Happy Haunted Halloween Tunes  Halloween           1       221466   \n",
       "...                                ...        ...         ...          ...   \n",
       "100004                Rock & Halloween  Halloween           2       238106   \n",
       "100006             Spooky Scary Season  Halloween           0       238106   \n",
       "100007           Halloween Scary Party  Halloween           0       238106   \n",
       "100008  Halloween Songs | Witches Hour  Halloween           0       238106   \n",
       "100011       Halloween Kids Party 2022  Halloween           0       238106   \n",
       "\n",
       "        explicit  danceability  energy  key  loudness  mode  speechiness  \\\n",
       "2783       False         0.223   0.910    7    -7.097     1        0.080   \n",
       "2787       False         0.223   0.910    7    -7.097     1        0.080   \n",
       "2788       False         0.223   0.910    7    -7.097     1        0.080   \n",
       "2790       False         0.223   0.910    7    -7.097     1        0.080   \n",
       "2793       False         0.223   0.910    7    -7.097     1        0.080   \n",
       "...          ...           ...     ...  ...       ...   ...          ...   \n",
       "100004     False         0.286   0.929   11    -8.494     0        0.091   \n",
       "100006     False         0.286   0.929   11    -8.494     0        0.091   \n",
       "100007     False         0.286   0.929   11    -8.494     0        0.091   \n",
       "100008     False         0.286   0.929   11    -8.494     0        0.091   \n",
       "100011     False         0.286   0.929   11    -8.494     0        0.091   \n",
       "\n",
       "        acousticness  instrumentalness  liveness  valence    tempo  \\\n",
       "2783         0.01160          0.000518    0.2120    0.364  171.750   \n",
       "2787         0.01160          0.000518    0.2120    0.364  171.750   \n",
       "2788         0.01160          0.000518    0.2120    0.364  171.750   \n",
       "2790         0.01160          0.000518    0.2120    0.364  171.750   \n",
       "2793         0.01160          0.000518    0.2120    0.364  171.750   \n",
       "...              ...               ...       ...      ...      ...   \n",
       "100004       0.00231          0.000740    0.0946    0.127   99.762   \n",
       "100006       0.00231          0.000740    0.0946    0.127   99.762   \n",
       "100007       0.00231          0.000740    0.0946    0.127   99.762   \n",
       "100008       0.00231          0.000740    0.0946    0.127   99.762   \n",
       "100011       0.00231          0.000740    0.0946    0.127   99.762   \n",
       "\n",
       "        time_signature track_genre  \n",
       "2783                 4    alt-rock  \n",
       "2787                 4    alt-rock  \n",
       "2788                 4    alt-rock  \n",
       "2790                 4    alt-rock  \n",
       "2793                 4    alt-rock  \n",
       "...                ...         ...  \n",
       "100004               4         ska  \n",
       "100006               4         ska  \n",
       "100007               4         ska  \n",
       "100008               4         ska  \n",
       "100011               4         ska  \n",
       "\n",
       "[88 rows x 20 columns]"
      ]
     },
     "execution_count": 15,
     "metadata": {},
     "output_type": "execute_result"
    }
   ],
   "source": [
    "df[df['track_name'] == 'Halloween']"
   ]
  },
  {
   "cell_type": "code",
   "execution_count": 16,
   "id": "2476e16b",
   "metadata": {},
   "outputs": [],
   "source": [
    "indices = df['track_name'].drop_duplicates().index"
   ]
  },
  {
   "cell_type": "code",
   "execution_count": 17,
   "id": "c8f94f6a",
   "metadata": {},
   "outputs": [
    {
     "data": {
      "text/html": [
       "<div>\n",
       "<style scoped>\n",
       "    .dataframe tbody tr th:only-of-type {\n",
       "        vertical-align: middle;\n",
       "    }\n",
       "\n",
       "    .dataframe tbody tr th {\n",
       "        vertical-align: top;\n",
       "    }\n",
       "\n",
       "    .dataframe thead th {\n",
       "        text-align: right;\n",
       "    }\n",
       "</style>\n",
       "<table border=\"1\" class=\"dataframe\">\n",
       "  <thead>\n",
       "    <tr style=\"text-align: right;\">\n",
       "      <th></th>\n",
       "      <th>track_id</th>\n",
       "      <th>artists</th>\n",
       "      <th>album_name</th>\n",
       "      <th>track_name</th>\n",
       "      <th>popularity</th>\n",
       "      <th>duration_ms</th>\n",
       "      <th>explicit</th>\n",
       "      <th>danceability</th>\n",
       "      <th>energy</th>\n",
       "      <th>key</th>\n",
       "      <th>loudness</th>\n",
       "      <th>mode</th>\n",
       "      <th>speechiness</th>\n",
       "      <th>acousticness</th>\n",
       "      <th>instrumentalness</th>\n",
       "      <th>liveness</th>\n",
       "      <th>valence</th>\n",
       "      <th>tempo</th>\n",
       "      <th>time_signature</th>\n",
       "      <th>track_genre</th>\n",
       "    </tr>\n",
       "  </thead>\n",
       "  <tbody>\n",
       "    <tr>\n",
       "      <th>0</th>\n",
       "      <td>5SuOikwiRyPMVoIQDJUgSV</td>\n",
       "      <td>Gen Hoshino</td>\n",
       "      <td>Comedy</td>\n",
       "      <td>Comedy</td>\n",
       "      <td>73</td>\n",
       "      <td>230666</td>\n",
       "      <td>False</td>\n",
       "      <td>0.676</td>\n",
       "      <td>0.4610</td>\n",
       "      <td>1</td>\n",
       "      <td>-6.746</td>\n",
       "      <td>0</td>\n",
       "      <td>0.1430</td>\n",
       "      <td>0.0322</td>\n",
       "      <td>0.000001</td>\n",
       "      <td>0.3580</td>\n",
       "      <td>0.7150</td>\n",
       "      <td>87.917</td>\n",
       "      <td>4</td>\n",
       "      <td>acoustic</td>\n",
       "    </tr>\n",
       "    <tr>\n",
       "      <th>1</th>\n",
       "      <td>4qPNDBW1i3p13qLCt0Ki3A</td>\n",
       "      <td>Ben Woodward</td>\n",
       "      <td>Ghost (Acoustic)</td>\n",
       "      <td>Ghost - Acoustic</td>\n",
       "      <td>55</td>\n",
       "      <td>149610</td>\n",
       "      <td>False</td>\n",
       "      <td>0.420</td>\n",
       "      <td>0.1660</td>\n",
       "      <td>1</td>\n",
       "      <td>-17.235</td>\n",
       "      <td>1</td>\n",
       "      <td>0.0763</td>\n",
       "      <td>0.9240</td>\n",
       "      <td>0.000006</td>\n",
       "      <td>0.1010</td>\n",
       "      <td>0.2670</td>\n",
       "      <td>77.489</td>\n",
       "      <td>4</td>\n",
       "      <td>acoustic</td>\n",
       "    </tr>\n",
       "    <tr>\n",
       "      <th>2</th>\n",
       "      <td>1iJBSr7s7jYXzM8EGcbK5b</td>\n",
       "      <td>Ingrid Michaelson;ZAYN</td>\n",
       "      <td>To Begin Again</td>\n",
       "      <td>To Begin Again</td>\n",
       "      <td>57</td>\n",
       "      <td>210826</td>\n",
       "      <td>False</td>\n",
       "      <td>0.438</td>\n",
       "      <td>0.3590</td>\n",
       "      <td>0</td>\n",
       "      <td>-9.734</td>\n",
       "      <td>1</td>\n",
       "      <td>0.0557</td>\n",
       "      <td>0.2100</td>\n",
       "      <td>0.000000</td>\n",
       "      <td>0.1170</td>\n",
       "      <td>0.1200</td>\n",
       "      <td>76.332</td>\n",
       "      <td>4</td>\n",
       "      <td>acoustic</td>\n",
       "    </tr>\n",
       "    <tr>\n",
       "      <th>3</th>\n",
       "      <td>6lfxq3CG4xtTiEg7opyCyx</td>\n",
       "      <td>Kina Grannis</td>\n",
       "      <td>Crazy Rich Asians (Original Motion Picture Sou...</td>\n",
       "      <td>Can't Help Falling In Love</td>\n",
       "      <td>71</td>\n",
       "      <td>201933</td>\n",
       "      <td>False</td>\n",
       "      <td>0.266</td>\n",
       "      <td>0.0596</td>\n",
       "      <td>0</td>\n",
       "      <td>-18.515</td>\n",
       "      <td>1</td>\n",
       "      <td>0.0363</td>\n",
       "      <td>0.9050</td>\n",
       "      <td>0.000071</td>\n",
       "      <td>0.1320</td>\n",
       "      <td>0.1430</td>\n",
       "      <td>181.740</td>\n",
       "      <td>3</td>\n",
       "      <td>acoustic</td>\n",
       "    </tr>\n",
       "    <tr>\n",
       "      <th>4</th>\n",
       "      <td>5vjLSffimiIP26QG5WcN2K</td>\n",
       "      <td>Chord Overstreet</td>\n",
       "      <td>Hold On</td>\n",
       "      <td>Hold On</td>\n",
       "      <td>82</td>\n",
       "      <td>198853</td>\n",
       "      <td>False</td>\n",
       "      <td>0.618</td>\n",
       "      <td>0.4430</td>\n",
       "      <td>2</td>\n",
       "      <td>-9.681</td>\n",
       "      <td>1</td>\n",
       "      <td>0.0526</td>\n",
       "      <td>0.4690</td>\n",
       "      <td>0.000000</td>\n",
       "      <td>0.0829</td>\n",
       "      <td>0.1670</td>\n",
       "      <td>119.949</td>\n",
       "      <td>4</td>\n",
       "      <td>acoustic</td>\n",
       "    </tr>\n",
       "    <tr>\n",
       "      <th>...</th>\n",
       "      <td>...</td>\n",
       "      <td>...</td>\n",
       "      <td>...</td>\n",
       "      <td>...</td>\n",
       "      <td>...</td>\n",
       "      <td>...</td>\n",
       "      <td>...</td>\n",
       "      <td>...</td>\n",
       "      <td>...</td>\n",
       "      <td>...</td>\n",
       "      <td>...</td>\n",
       "      <td>...</td>\n",
       "      <td>...</td>\n",
       "      <td>...</td>\n",
       "      <td>...</td>\n",
       "      <td>...</td>\n",
       "      <td>...</td>\n",
       "      <td>...</td>\n",
       "      <td>...</td>\n",
       "      <td>...</td>\n",
       "    </tr>\n",
       "    <tr>\n",
       "      <th>113994</th>\n",
       "      <td>4WbOUe6T0sozC7z5ZJgiAA</td>\n",
       "      <td>Lucas Cervetti</td>\n",
       "      <td>Frecuencias Álmicas en 432hz</td>\n",
       "      <td>Frecuencia Álmica, Pt. 4</td>\n",
       "      <td>22</td>\n",
       "      <td>305454</td>\n",
       "      <td>False</td>\n",
       "      <td>0.331</td>\n",
       "      <td>0.1710</td>\n",
       "      <td>1</td>\n",
       "      <td>-15.668</td>\n",
       "      <td>1</td>\n",
       "      <td>0.0350</td>\n",
       "      <td>0.9200</td>\n",
       "      <td>0.022900</td>\n",
       "      <td>0.0679</td>\n",
       "      <td>0.3270</td>\n",
       "      <td>132.147</td>\n",
       "      <td>3</td>\n",
       "      <td>world-music</td>\n",
       "    </tr>\n",
       "    <tr>\n",
       "      <th>113995</th>\n",
       "      <td>2C3TZjDRiAzdyViavDJ217</td>\n",
       "      <td>Rainy Lullaby</td>\n",
       "      <td>#mindfulness - Soft Rain for Mindful Meditatio...</td>\n",
       "      <td>Sleep My Little Boy</td>\n",
       "      <td>21</td>\n",
       "      <td>384999</td>\n",
       "      <td>False</td>\n",
       "      <td>0.172</td>\n",
       "      <td>0.2350</td>\n",
       "      <td>5</td>\n",
       "      <td>-16.393</td>\n",
       "      <td>1</td>\n",
       "      <td>0.0422</td>\n",
       "      <td>0.6400</td>\n",
       "      <td>0.928000</td>\n",
       "      <td>0.0863</td>\n",
       "      <td>0.0339</td>\n",
       "      <td>125.995</td>\n",
       "      <td>5</td>\n",
       "      <td>world-music</td>\n",
       "    </tr>\n",
       "    <tr>\n",
       "      <th>113996</th>\n",
       "      <td>1hIz5L4IB9hN3WRYPOCGPw</td>\n",
       "      <td>Rainy Lullaby</td>\n",
       "      <td>#mindfulness - Soft Rain for Mindful Meditatio...</td>\n",
       "      <td>Water Into Light</td>\n",
       "      <td>22</td>\n",
       "      <td>385000</td>\n",
       "      <td>False</td>\n",
       "      <td>0.174</td>\n",
       "      <td>0.1170</td>\n",
       "      <td>0</td>\n",
       "      <td>-18.318</td>\n",
       "      <td>0</td>\n",
       "      <td>0.0401</td>\n",
       "      <td>0.9940</td>\n",
       "      <td>0.976000</td>\n",
       "      <td>0.1050</td>\n",
       "      <td>0.0350</td>\n",
       "      <td>85.239</td>\n",
       "      <td>4</td>\n",
       "      <td>world-music</td>\n",
       "    </tr>\n",
       "    <tr>\n",
       "      <th>113997</th>\n",
       "      <td>6x8ZfSoqDjuNa5SVP5QjvX</td>\n",
       "      <td>Cesária Evora</td>\n",
       "      <td>Best Of</td>\n",
       "      <td>Miss Perfumado</td>\n",
       "      <td>22</td>\n",
       "      <td>271466</td>\n",
       "      <td>False</td>\n",
       "      <td>0.629</td>\n",
       "      <td>0.3290</td>\n",
       "      <td>0</td>\n",
       "      <td>-10.895</td>\n",
       "      <td>0</td>\n",
       "      <td>0.0420</td>\n",
       "      <td>0.8670</td>\n",
       "      <td>0.000000</td>\n",
       "      <td>0.0839</td>\n",
       "      <td>0.7430</td>\n",
       "      <td>132.378</td>\n",
       "      <td>4</td>\n",
       "      <td>world-music</td>\n",
       "    </tr>\n",
       "    <tr>\n",
       "      <th>113999</th>\n",
       "      <td>2hETkH7cOfqmz3LqZDHZf5</td>\n",
       "      <td>Cesária Evora</td>\n",
       "      <td>Miss Perfumado</td>\n",
       "      <td>Barbincor</td>\n",
       "      <td>22</td>\n",
       "      <td>241826</td>\n",
       "      <td>False</td>\n",
       "      <td>0.526</td>\n",
       "      <td>0.4870</td>\n",
       "      <td>1</td>\n",
       "      <td>-10.204</td>\n",
       "      <td>0</td>\n",
       "      <td>0.0725</td>\n",
       "      <td>0.6810</td>\n",
       "      <td>0.000000</td>\n",
       "      <td>0.0893</td>\n",
       "      <td>0.7080</td>\n",
       "      <td>79.198</td>\n",
       "      <td>4</td>\n",
       "      <td>world-music</td>\n",
       "    </tr>\n",
       "  </tbody>\n",
       "</table>\n",
       "<p>73609 rows × 20 columns</p>\n",
       "</div>"
      ],
      "text/plain": [
       "                      track_id                 artists  \\\n",
       "0       5SuOikwiRyPMVoIQDJUgSV             Gen Hoshino   \n",
       "1       4qPNDBW1i3p13qLCt0Ki3A            Ben Woodward   \n",
       "2       1iJBSr7s7jYXzM8EGcbK5b  Ingrid Michaelson;ZAYN   \n",
       "3       6lfxq3CG4xtTiEg7opyCyx            Kina Grannis   \n",
       "4       5vjLSffimiIP26QG5WcN2K        Chord Overstreet   \n",
       "...                        ...                     ...   \n",
       "113994  4WbOUe6T0sozC7z5ZJgiAA          Lucas Cervetti   \n",
       "113995  2C3TZjDRiAzdyViavDJ217           Rainy Lullaby   \n",
       "113996  1hIz5L4IB9hN3WRYPOCGPw           Rainy Lullaby   \n",
       "113997  6x8ZfSoqDjuNa5SVP5QjvX           Cesária Evora   \n",
       "113999  2hETkH7cOfqmz3LqZDHZf5           Cesária Evora   \n",
       "\n",
       "                                               album_name  \\\n",
       "0                                                  Comedy   \n",
       "1                                        Ghost (Acoustic)   \n",
       "2                                          To Begin Again   \n",
       "3       Crazy Rich Asians (Original Motion Picture Sou...   \n",
       "4                                                 Hold On   \n",
       "...                                                   ...   \n",
       "113994                       Frecuencias Álmicas en 432hz   \n",
       "113995  #mindfulness - Soft Rain for Mindful Meditatio...   \n",
       "113996  #mindfulness - Soft Rain for Mindful Meditatio...   \n",
       "113997                                            Best Of   \n",
       "113999                                     Miss Perfumado   \n",
       "\n",
       "                        track_name  popularity  duration_ms  explicit  \\\n",
       "0                           Comedy          73       230666     False   \n",
       "1                 Ghost - Acoustic          55       149610     False   \n",
       "2                   To Begin Again          57       210826     False   \n",
       "3       Can't Help Falling In Love          71       201933     False   \n",
       "4                          Hold On          82       198853     False   \n",
       "...                            ...         ...          ...       ...   \n",
       "113994    Frecuencia Álmica, Pt. 4          22       305454     False   \n",
       "113995         Sleep My Little Boy          21       384999     False   \n",
       "113996            Water Into Light          22       385000     False   \n",
       "113997              Miss Perfumado          22       271466     False   \n",
       "113999                   Barbincor          22       241826     False   \n",
       "\n",
       "        danceability  energy  key  loudness  mode  speechiness  acousticness  \\\n",
       "0              0.676  0.4610    1    -6.746     0       0.1430        0.0322   \n",
       "1              0.420  0.1660    1   -17.235     1       0.0763        0.9240   \n",
       "2              0.438  0.3590    0    -9.734     1       0.0557        0.2100   \n",
       "3              0.266  0.0596    0   -18.515     1       0.0363        0.9050   \n",
       "4              0.618  0.4430    2    -9.681     1       0.0526        0.4690   \n",
       "...              ...     ...  ...       ...   ...          ...           ...   \n",
       "113994         0.331  0.1710    1   -15.668     1       0.0350        0.9200   \n",
       "113995         0.172  0.2350    5   -16.393     1       0.0422        0.6400   \n",
       "113996         0.174  0.1170    0   -18.318     0       0.0401        0.9940   \n",
       "113997         0.629  0.3290    0   -10.895     0       0.0420        0.8670   \n",
       "113999         0.526  0.4870    1   -10.204     0       0.0725        0.6810   \n",
       "\n",
       "        instrumentalness  liveness  valence    tempo  time_signature  \\\n",
       "0               0.000001    0.3580   0.7150   87.917               4   \n",
       "1               0.000006    0.1010   0.2670   77.489               4   \n",
       "2               0.000000    0.1170   0.1200   76.332               4   \n",
       "3               0.000071    0.1320   0.1430  181.740               3   \n",
       "4               0.000000    0.0829   0.1670  119.949               4   \n",
       "...                  ...       ...      ...      ...             ...   \n",
       "113994          0.022900    0.0679   0.3270  132.147               3   \n",
       "113995          0.928000    0.0863   0.0339  125.995               5   \n",
       "113996          0.976000    0.1050   0.0350   85.239               4   \n",
       "113997          0.000000    0.0839   0.7430  132.378               4   \n",
       "113999          0.000000    0.0893   0.7080   79.198               4   \n",
       "\n",
       "        track_genre  \n",
       "0          acoustic  \n",
       "1          acoustic  \n",
       "2          acoustic  \n",
       "3          acoustic  \n",
       "4          acoustic  \n",
       "...             ...  \n",
       "113994  world-music  \n",
       "113995  world-music  \n",
       "113996  world-music  \n",
       "113997  world-music  \n",
       "113999  world-music  \n",
       "\n",
       "[73609 rows x 20 columns]"
      ]
     },
     "execution_count": 17,
     "metadata": {},
     "output_type": "execute_result"
    }
   ],
   "source": [
    "df = df.loc[indices]\n",
    "df.reset_index().drop('index', axis =1, inplace = True)\n",
    "df"
   ]
  },
  {
   "cell_type": "code",
   "execution_count": 18,
   "id": "42c460d8",
   "metadata": {},
   "outputs": [
    {
     "data": {
      "text/html": [
       "<div>\n",
       "<style scoped>\n",
       "    .dataframe tbody tr th:only-of-type {\n",
       "        vertical-align: middle;\n",
       "    }\n",
       "\n",
       "    .dataframe tbody tr th {\n",
       "        vertical-align: top;\n",
       "    }\n",
       "\n",
       "    .dataframe thead th {\n",
       "        text-align: right;\n",
       "    }\n",
       "</style>\n",
       "<table border=\"1\" class=\"dataframe\">\n",
       "  <thead>\n",
       "    <tr style=\"text-align: right;\">\n",
       "      <th></th>\n",
       "      <th>popularity</th>\n",
       "      <th>duration_ms</th>\n",
       "      <th>danceability</th>\n",
       "      <th>energy</th>\n",
       "      <th>key</th>\n",
       "      <th>loudness</th>\n",
       "      <th>mode</th>\n",
       "      <th>speechiness</th>\n",
       "      <th>acousticness</th>\n",
       "      <th>instrumentalness</th>\n",
       "      <th>liveness</th>\n",
       "      <th>valence</th>\n",
       "      <th>tempo</th>\n",
       "      <th>time_signature</th>\n",
       "    </tr>\n",
       "  </thead>\n",
       "  <tbody>\n",
       "    <tr>\n",
       "      <th>count</th>\n",
       "      <td>73609.000000</td>\n",
       "      <td>7.360900e+04</td>\n",
       "      <td>73609.000000</td>\n",
       "      <td>73609.000000</td>\n",
       "      <td>73609.000000</td>\n",
       "      <td>73609.000000</td>\n",
       "      <td>73609.000000</td>\n",
       "      <td>73609.000000</td>\n",
       "      <td>73609.000000</td>\n",
       "      <td>73609.000000</td>\n",
       "      <td>73609.000000</td>\n",
       "      <td>73609.000000</td>\n",
       "      <td>73609.000000</td>\n",
       "      <td>73609.000000</td>\n",
       "    </tr>\n",
       "    <tr>\n",
       "      <th>mean</th>\n",
       "      <td>34.386026</td>\n",
       "      <td>2.321302e+05</td>\n",
       "      <td>0.558683</td>\n",
       "      <td>0.636943</td>\n",
       "      <td>5.283770</td>\n",
       "      <td>-8.604254</td>\n",
       "      <td>0.633754</td>\n",
       "      <td>0.090341</td>\n",
       "      <td>0.331156</td>\n",
       "      <td>0.184374</td>\n",
       "      <td>0.222687</td>\n",
       "      <td>0.467224</td>\n",
       "      <td>122.144181</td>\n",
       "      <td>3.895746</td>\n",
       "    </tr>\n",
       "    <tr>\n",
       "      <th>std</th>\n",
       "      <td>19.193771</td>\n",
       "      <td>1.190002e+05</td>\n",
       "      <td>0.178511</td>\n",
       "      <td>0.258683</td>\n",
       "      <td>3.556236</td>\n",
       "      <td>5.319727</td>\n",
       "      <td>0.481781</td>\n",
       "      <td>0.119301</td>\n",
       "      <td>0.339817</td>\n",
       "      <td>0.331404</td>\n",
       "      <td>0.201290</td>\n",
       "      <td>0.264070</td>\n",
       "      <td>30.170261</td>\n",
       "      <td>0.459298</td>\n",
       "    </tr>\n",
       "    <tr>\n",
       "      <th>min</th>\n",
       "      <td>0.000000</td>\n",
       "      <td>0.000000e+00</td>\n",
       "      <td>0.000000</td>\n",
       "      <td>0.000000</td>\n",
       "      <td>0.000000</td>\n",
       "      <td>-49.531000</td>\n",
       "      <td>0.000000</td>\n",
       "      <td>0.000000</td>\n",
       "      <td>0.000000</td>\n",
       "      <td>0.000000</td>\n",
       "      <td>0.000000</td>\n",
       "      <td>0.000000</td>\n",
       "      <td>0.000000</td>\n",
       "      <td>0.000000</td>\n",
       "    </tr>\n",
       "    <tr>\n",
       "      <th>25%</th>\n",
       "      <td>21.000000</td>\n",
       "      <td>1.739230e+05</td>\n",
       "      <td>0.445000</td>\n",
       "      <td>0.457000</td>\n",
       "      <td>2.000000</td>\n",
       "      <td>-10.468000</td>\n",
       "      <td>0.000000</td>\n",
       "      <td>0.036200</td>\n",
       "      <td>0.016000</td>\n",
       "      <td>0.000000</td>\n",
       "      <td>0.098700</td>\n",
       "      <td>0.245000</td>\n",
       "      <td>99.160000</td>\n",
       "      <td>4.000000</td>\n",
       "    </tr>\n",
       "    <tr>\n",
       "      <th>50%</th>\n",
       "      <td>34.000000</td>\n",
       "      <td>2.158800e+05</td>\n",
       "      <td>0.573000</td>\n",
       "      <td>0.680000</td>\n",
       "      <td>5.000000</td>\n",
       "      <td>-7.266000</td>\n",
       "      <td>1.000000</td>\n",
       "      <td>0.049400</td>\n",
       "      <td>0.194000</td>\n",
       "      <td>0.000085</td>\n",
       "      <td>0.134000</td>\n",
       "      <td>0.455000</td>\n",
       "      <td>122.038000</td>\n",
       "      <td>4.000000</td>\n",
       "    </tr>\n",
       "    <tr>\n",
       "      <th>75%</th>\n",
       "      <td>48.000000</td>\n",
       "      <td>2.686000e+05</td>\n",
       "      <td>0.690000</td>\n",
       "      <td>0.859000</td>\n",
       "      <td>8.000000</td>\n",
       "      <td>-5.142000</td>\n",
       "      <td>1.000000</td>\n",
       "      <td>0.088500</td>\n",
       "      <td>0.631000</td>\n",
       "      <td>0.151000</td>\n",
       "      <td>0.288000</td>\n",
       "      <td>0.682000</td>\n",
       "      <td>140.132000</td>\n",
       "      <td>4.000000</td>\n",
       "    </tr>\n",
       "    <tr>\n",
       "      <th>max</th>\n",
       "      <td>100.000000</td>\n",
       "      <td>5.237295e+06</td>\n",
       "      <td>0.985000</td>\n",
       "      <td>1.000000</td>\n",
       "      <td>11.000000</td>\n",
       "      <td>4.532000</td>\n",
       "      <td>1.000000</td>\n",
       "      <td>0.965000</td>\n",
       "      <td>0.996000</td>\n",
       "      <td>1.000000</td>\n",
       "      <td>1.000000</td>\n",
       "      <td>0.995000</td>\n",
       "      <td>243.372000</td>\n",
       "      <td>5.000000</td>\n",
       "    </tr>\n",
       "  </tbody>\n",
       "</table>\n",
       "</div>"
      ],
      "text/plain": [
       "         popularity   duration_ms  danceability        energy           key  \\\n",
       "count  73609.000000  7.360900e+04  73609.000000  73609.000000  73609.000000   \n",
       "mean      34.386026  2.321302e+05      0.558683      0.636943      5.283770   \n",
       "std       19.193771  1.190002e+05      0.178511      0.258683      3.556236   \n",
       "min        0.000000  0.000000e+00      0.000000      0.000000      0.000000   \n",
       "25%       21.000000  1.739230e+05      0.445000      0.457000      2.000000   \n",
       "50%       34.000000  2.158800e+05      0.573000      0.680000      5.000000   \n",
       "75%       48.000000  2.686000e+05      0.690000      0.859000      8.000000   \n",
       "max      100.000000  5.237295e+06      0.985000      1.000000     11.000000   \n",
       "\n",
       "           loudness          mode   speechiness  acousticness  \\\n",
       "count  73609.000000  73609.000000  73609.000000  73609.000000   \n",
       "mean      -8.604254      0.633754      0.090341      0.331156   \n",
       "std        5.319727      0.481781      0.119301      0.339817   \n",
       "min      -49.531000      0.000000      0.000000      0.000000   \n",
       "25%      -10.468000      0.000000      0.036200      0.016000   \n",
       "50%       -7.266000      1.000000      0.049400      0.194000   \n",
       "75%       -5.142000      1.000000      0.088500      0.631000   \n",
       "max        4.532000      1.000000      0.965000      0.996000   \n",
       "\n",
       "       instrumentalness      liveness       valence         tempo  \\\n",
       "count      73609.000000  73609.000000  73609.000000  73609.000000   \n",
       "mean           0.184374      0.222687      0.467224    122.144181   \n",
       "std            0.331404      0.201290      0.264070     30.170261   \n",
       "min            0.000000      0.000000      0.000000      0.000000   \n",
       "25%            0.000000      0.098700      0.245000     99.160000   \n",
       "50%            0.000085      0.134000      0.455000    122.038000   \n",
       "75%            0.151000      0.288000      0.682000    140.132000   \n",
       "max            1.000000      1.000000      0.995000    243.372000   \n",
       "\n",
       "       time_signature  \n",
       "count    73609.000000  \n",
       "mean         3.895746  \n",
       "std          0.459298  \n",
       "min          0.000000  \n",
       "25%          4.000000  \n",
       "50%          4.000000  \n",
       "75%          4.000000  \n",
       "max          5.000000  "
      ]
     },
     "execution_count": 18,
     "metadata": {},
     "output_type": "execute_result"
    }
   ],
   "source": [
    "df.describe()"
   ]
  },
  {
   "cell_type": "code",
   "execution_count": 19,
   "id": "e9e0fd47",
   "metadata": {},
   "outputs": [
    {
     "data": {
      "text/plain": [
       "<AxesSubplot:>"
      ]
     },
     "execution_count": 19,
     "metadata": {},
     "output_type": "execute_result"
    },
    {
     "data": {
      "image/png": "[encoded data removed]",
      "text/plain": [
       "<Figure size 792x648 with 2 Axes>"
      ]
     },
     "metadata": {
      "needs_background": "light"
     },
     "output_type": "display_data"
    }
   ],
   "source": [
    "import seaborn as sns\n",
    "corr = df.corr()\n",
    "# Generate a mask for the upper triangle\n",
    "mask = np.triu(np.ones_like(corr, dtype=bool))\n",
    "\n",
    "# Set up the matplotlib figure\n",
    "f, ax = plt.subplots(figsize=(11, 9))\n",
    "\n",
    "# Generate a custom diverging colormap\n",
    "cmap = sns.diverging_palette(230, 20, as_cmap=True)\n",
    "\n",
    "# Draw the heatmap with the mask and correct aspect ratio\n",
    "sns.heatmap(corr, mask=mask, cmap=cmap, vmax=.3, center=0,\n",
    "            square=True, linewidths=.5, cbar_kws={\"shrink\": .5})"
   ]
  },
  {
   "cell_type": "markdown",
   "id": "c021162d",
   "metadata": {},
   "source": [
    "O que torna uma música popular?\n",
    "\n",
    "Pelo gráfico de correlaçaõ não aparenta existir fortes correlações entre popularidade e as outras variáveis. As correlações são baixas. Portante, não aparenta existir um fator determinante para que a popularidade da música seja maior.\n",
    "\n",
    "Vamos pegar os maiores valores de popularidade e analisar alguns fatores. \n",
    "\n",
    "# Variáveis Discretas"
   ]
  },
  {
   "cell_type": "code",
   "execution_count": 20,
   "id": "c2198f1b",
   "metadata": {},
   "outputs": [
    {
     "data": {
      "text/html": [
       "<div>\n",
       "<style scoped>\n",
       "    .dataframe tbody tr th:only-of-type {\n",
       "        vertical-align: middle;\n",
       "    }\n",
       "\n",
       "    .dataframe tbody tr th {\n",
       "        vertical-align: top;\n",
       "    }\n",
       "\n",
       "    .dataframe thead th {\n",
       "        text-align: right;\n",
       "    }\n",
       "</style>\n",
       "<table border=\"1\" class=\"dataframe\">\n",
       "  <thead>\n",
       "    <tr style=\"text-align: right;\">\n",
       "      <th></th>\n",
       "      <th>track_id</th>\n",
       "      <th>artists</th>\n",
       "      <th>album_name</th>\n",
       "      <th>track_name</th>\n",
       "      <th>popularity</th>\n",
       "      <th>duration_ms</th>\n",
       "      <th>explicit</th>\n",
       "      <th>danceability</th>\n",
       "      <th>energy</th>\n",
       "      <th>key</th>\n",
       "      <th>loudness</th>\n",
       "      <th>mode</th>\n",
       "      <th>speechiness</th>\n",
       "      <th>acousticness</th>\n",
       "      <th>instrumentalness</th>\n",
       "      <th>liveness</th>\n",
       "      <th>valence</th>\n",
       "      <th>tempo</th>\n",
       "      <th>time_signature</th>\n",
       "      <th>track_genre</th>\n",
       "    </tr>\n",
       "  </thead>\n",
       "  <tbody>\n",
       "    <tr>\n",
       "      <th>0</th>\n",
       "      <td>5SuOikwiRyPMVoIQDJUgSV</td>\n",
       "      <td>Gen Hoshino</td>\n",
       "      <td>Comedy</td>\n",
       "      <td>Comedy</td>\n",
       "      <td>73</td>\n",
       "      <td>230666</td>\n",
       "      <td>False</td>\n",
       "      <td>0.676</td>\n",
       "      <td>0.4610</td>\n",
       "      <td>1</td>\n",
       "      <td>-6.746</td>\n",
       "      <td>0</td>\n",
       "      <td>0.1430</td>\n",
       "      <td>0.0322</td>\n",
       "      <td>0.000001</td>\n",
       "      <td>0.3580</td>\n",
       "      <td>0.7150</td>\n",
       "      <td>87.917</td>\n",
       "      <td>4</td>\n",
       "      <td>acoustic</td>\n",
       "    </tr>\n",
       "    <tr>\n",
       "      <th>3</th>\n",
       "      <td>6lfxq3CG4xtTiEg7opyCyx</td>\n",
       "      <td>Kina Grannis</td>\n",
       "      <td>Crazy Rich Asians (Original Motion Picture Sou...</td>\n",
       "      <td>Can't Help Falling In Love</td>\n",
       "      <td>71</td>\n",
       "      <td>201933</td>\n",
       "      <td>False</td>\n",
       "      <td>0.266</td>\n",
       "      <td>0.0596</td>\n",
       "      <td>0</td>\n",
       "      <td>-18.515</td>\n",
       "      <td>1</td>\n",
       "      <td>0.0363</td>\n",
       "      <td>0.9050</td>\n",
       "      <td>0.000071</td>\n",
       "      <td>0.1320</td>\n",
       "      <td>0.1430</td>\n",
       "      <td>181.740</td>\n",
       "      <td>3</td>\n",
       "      <td>acoustic</td>\n",
       "    </tr>\n",
       "    <tr>\n",
       "      <th>4</th>\n",
       "      <td>5vjLSffimiIP26QG5WcN2K</td>\n",
       "      <td>Chord Overstreet</td>\n",
       "      <td>Hold On</td>\n",
       "      <td>Hold On</td>\n",
       "      <td>82</td>\n",
       "      <td>198853</td>\n",
       "      <td>False</td>\n",
       "      <td>0.618</td>\n",
       "      <td>0.4430</td>\n",
       "      <td>2</td>\n",
       "      <td>-9.681</td>\n",
       "      <td>1</td>\n",
       "      <td>0.0526</td>\n",
       "      <td>0.4690</td>\n",
       "      <td>0.000000</td>\n",
       "      <td>0.0829</td>\n",
       "      <td>0.1670</td>\n",
       "      <td>119.949</td>\n",
       "      <td>4</td>\n",
       "      <td>acoustic</td>\n",
       "    </tr>\n",
       "    <tr>\n",
       "      <th>6</th>\n",
       "      <td>6Vc5wAMmXdKIAM7WUoEb7N</td>\n",
       "      <td>A Great Big World;Christina Aguilera</td>\n",
       "      <td>Is There Anybody Out There?</td>\n",
       "      <td>Say Something</td>\n",
       "      <td>74</td>\n",
       "      <td>229400</td>\n",
       "      <td>False</td>\n",
       "      <td>0.407</td>\n",
       "      <td>0.1470</td>\n",
       "      <td>2</td>\n",
       "      <td>-8.822</td>\n",
       "      <td>1</td>\n",
       "      <td>0.0355</td>\n",
       "      <td>0.8570</td>\n",
       "      <td>0.000003</td>\n",
       "      <td>0.0913</td>\n",
       "      <td>0.0765</td>\n",
       "      <td>141.284</td>\n",
       "      <td>3</td>\n",
       "      <td>acoustic</td>\n",
       "    </tr>\n",
       "    <tr>\n",
       "      <th>7</th>\n",
       "      <td>1EzrEOXmMH3G43AXT1y7pA</td>\n",
       "      <td>Jason Mraz</td>\n",
       "      <td>We Sing. We Dance. We Steal Things.</td>\n",
       "      <td>I'm Yours</td>\n",
       "      <td>80</td>\n",
       "      <td>242946</td>\n",
       "      <td>False</td>\n",
       "      <td>0.703</td>\n",
       "      <td>0.4440</td>\n",
       "      <td>11</td>\n",
       "      <td>-9.331</td>\n",
       "      <td>1</td>\n",
       "      <td>0.0417</td>\n",
       "      <td>0.5590</td>\n",
       "      <td>0.000000</td>\n",
       "      <td>0.0973</td>\n",
       "      <td>0.7120</td>\n",
       "      <td>150.960</td>\n",
       "      <td>4</td>\n",
       "      <td>acoustic</td>\n",
       "    </tr>\n",
       "  </tbody>\n",
       "</table>\n",
       "</div>"
      ],
      "text/plain": [
       "                 track_id                               artists  \\\n",
       "0  5SuOikwiRyPMVoIQDJUgSV                           Gen Hoshino   \n",
       "3  6lfxq3CG4xtTiEg7opyCyx                          Kina Grannis   \n",
       "4  5vjLSffimiIP26QG5WcN2K                      Chord Overstreet   \n",
       "6  6Vc5wAMmXdKIAM7WUoEb7N  A Great Big World;Christina Aguilera   \n",
       "7  1EzrEOXmMH3G43AXT1y7pA                            Jason Mraz   \n",
       "\n",
       "                                          album_name  \\\n",
       "0                                             Comedy   \n",
       "3  Crazy Rich Asians (Original Motion Picture Sou...   \n",
       "4                                            Hold On   \n",
       "6                        Is There Anybody Out There?   \n",
       "7                We Sing. We Dance. We Steal Things.   \n",
       "\n",
       "                   track_name  popularity  duration_ms  explicit  \\\n",
       "0                      Comedy          73       230666     False   \n",
       "3  Can't Help Falling In Love          71       201933     False   \n",
       "4                     Hold On          82       198853     False   \n",
       "6               Say Something          74       229400     False   \n",
       "7                   I'm Yours          80       242946     False   \n",
       "\n",
       "   danceability  energy  key  loudness  mode  speechiness  acousticness  \\\n",
       "0         0.676  0.4610    1    -6.746     0       0.1430        0.0322   \n",
       "3         0.266  0.0596    0   -18.515     1       0.0363        0.9050   \n",
       "4         0.618  0.4430    2    -9.681     1       0.0526        0.4690   \n",
       "6         0.407  0.1470    2    -8.822     1       0.0355        0.8570   \n",
       "7         0.703  0.4440   11    -9.331     1       0.0417        0.5590   \n",
       "\n",
       "   instrumentalness  liveness  valence    tempo  time_signature track_genre  \n",
       "0          0.000001    0.3580   0.7150   87.917               4    acoustic  \n",
       "3          0.000071    0.1320   0.1430  181.740               3    acoustic  \n",
       "4          0.000000    0.0829   0.1670  119.949               4    acoustic  \n",
       "6          0.000003    0.0913   0.0765  141.284               3    acoustic  \n",
       "7          0.000000    0.0973   0.7120  150.960               4    acoustic  "
      ]
     },
     "execution_count": 20,
     "metadata": {},
     "output_type": "execute_result"
    }
   ],
   "source": [
    "dfpopular = df.query('popularity >= 70')\n",
    "dfpopular.head()"
   ]
  },
  {
   "cell_type": "code",
   "execution_count": 21,
   "id": "ec404f63",
   "metadata": {},
   "outputs": [
    {
     "data": {
      "text/plain": [
       "track_genre\n",
       "acoustic       43.245884\n",
       "afrobeat       24.590476\n",
       "alt-rock       38.803089\n",
       "alternative    35.870536\n",
       "ambient        44.928571\n",
       "                 ...    \n",
       "techno         39.429022\n",
       "trance         38.108014\n",
       "trip-hop       33.963165\n",
       "turkish        40.845477\n",
       "world-music    41.398950\n",
       "Name: popularity, Length: 113, dtype: float64"
      ]
     },
     "execution_count": 21,
     "metadata": {},
     "output_type": "execute_result"
    }
   ],
   "source": [
    "srpopular = df.groupby(by='track_genre').mean().popularity\n",
    "srpopular"
   ]
  },
  {
   "cell_type": "code",
   "execution_count": 22,
   "id": "39a19ed6",
   "metadata": {},
   "outputs": [
    {
     "name": "stdout",
     "output_type": "stream",
     "text": [
      "Mínimo: 2.178114086146682, Máximo: 59.019633507853406, Média: 35.83162124529247\n"
     ]
    }
   ],
   "source": [
    "print(f'Mínimo: {srpopular.min()}, Máximo: {srpopular.max()}, Média: {srpopular.mean()}')"
   ]
  },
  {
   "cell_type": "code",
   "execution_count": 23,
   "id": "b92e8f2a",
   "metadata": {},
   "outputs": [
    {
     "data": {
      "text/plain": [
       "<AxesSubplot:ylabel='Count'>"
      ]
     },
     "execution_count": 23,
     "metadata": {},
     "output_type": "execute_result"
    },
    {
     "data": {
      "image/png": "[encoded data removed]",
      "text/plain": [
       "<Figure size 432x288 with 1 Axes>"
      ]
     },
     "metadata": {
      "needs_background": "light"
     },
     "output_type": "display_data"
    }
   ],
   "source": [
    "sns.histplot(srpopular.values)"
   ]
  },
  {
   "cell_type": "markdown",
   "id": "c5c688f7",
   "metadata": {},
   "source": [
    "Agrupando por gênero temos que a média de popularidade é de 33, e eu quero ver apenas os gêneros acima da média."
   ]
  },
  {
   "cell_type": "code",
   "execution_count": 24,
   "id": "9a65cb27",
   "metadata": {},
   "outputs": [
    {
     "data": {
      "text/plain": [
       "Text(0, 0.5, 'Popularidade')"
      ]
     },
     "execution_count": 24,
     "metadata": {},
     "output_type": "execute_result"
    },
    {
     "data": {
      "image/png": "[encoded data removed]",
      "text/plain": [
       "<Figure size 720x432 with 1 Axes>"
      ]
     },
     "metadata": {
      "needs_background": "light"
     },
     "output_type": "display_data"
    }
   ],
   "source": [
    "plt.figure(figsize = (10,6))\n",
    "cores = ['gray']*10\n",
    "cores[0] = 'b'\n",
    "X = srpopular[srpopular.values >= 34].sort_values(ascending = False)[:5].index\n",
    "Y = srpopular[srpopular.values >= 34].sort_values(ascending = False)[:5].values\n",
    "plt.bar(x = X, height = Y, color = cores)\n",
    "\n",
    "plt.title('TOP 5 Melhores Gêneros', fontsize = 18)\n",
    "plt.xlabel('Gêneros', fontsize = 12)\n",
    "plt.ylabel('Popularidade', fontsize = 12)"
   ]
  },
  {
   "cell_type": "code",
   "execution_count": 25,
   "id": "c90eb068",
   "metadata": {},
   "outputs": [
    {
     "data": {
      "text/plain": [
       "track_genre\n",
       "indie    41.215054\n",
       "Name: popularity, dtype: float64"
      ]
     },
     "execution_count": 25,
     "metadata": {},
     "output_type": "execute_result"
    }
   ],
   "source": [
    "# Verificando se o indian não é indie escrito errado. E aparentemente não é.\n",
    "srpopular[srpopular.index == 'indie']"
   ]
  },
  {
   "cell_type": "code",
   "execution_count": 26,
   "id": "b697e6c3",
   "metadata": {},
   "outputs": [
    {
     "data": {
      "text/plain": [
       "<BarContainer object of 5 artists>"
      ]
     },
     "execution_count": 26,
     "metadata": {},
     "output_type": "execute_result"
    },
    {
     "data": {
      "image/png": "[encoded data removed]",
      "text/plain": [
       "<Figure size 720x432 with 1 Axes>"
      ]
     },
     "metadata": {
      "needs_background": "light"
     },
     "output_type": "display_data"
    }
   ],
   "source": [
    "plt.figure(figsize = (10,6))\n",
    "cores = ['gray']*10\n",
    "cores[0] = 'b'\n",
    "X = srpopular[srpopular.values >= 34].sort_values(ascending = True)[:5].index\n",
    "Y = srpopular[srpopular.values >= 34].sort_values(ascending = True)[:5].values\n",
    "plt.bar(x = X, height = Y, color = cores)"
   ]
  },
  {
   "cell_type": "markdown",
   "id": "79284c32",
   "metadata": {},
   "source": [
    "Existem gêneros que são mais populares que outros. Os 10 mais populares e 10 menos populares acima da média estão nos gráficos acima. \n",
    "Popularidade depende do gêneros"
   ]
  },
  {
   "cell_type": "code",
   "execution_count": 27,
   "id": "d020d9d9",
   "metadata": {},
   "outputs": [
    {
     "name": "stdout",
     "output_type": "stream",
     "text": [
      "Mínimo: 0.0, Máximo: 100.0, Média: 36.40562812341923\n"
     ]
    },
    {
     "data": {
      "text/plain": [
       "Text(0, 0.5, 'Popularidade')"
      ]
     },
     "execution_count": 27,
     "metadata": {},
     "output_type": "execute_result"
    },
    {
     "data": {
      "image/png": "[encoded data removed]",
      "text/plain": [
       "<Figure size 1080x432 with 1 Axes>"
      ]
     },
     "metadata": {
      "needs_background": "light"
     },
     "output_type": "display_data"
    }
   ],
   "source": [
    "srpopular = df.groupby(by='artists').mean().popularity\n",
    "print(f'Mínimo: {srpopular.min()}, Máximo: {srpopular.max()}, Média: {srpopular.mean()}')\n",
    "plt.figure(figsize = (15,6))\n",
    "cores = ['gray']*10\n",
    "cores[0] = 'b'\n",
    "srpopular[srpopular.values >= 37].sort_values(ascending = False)[:5]\n",
    "\n",
    "X = srpopular[srpopular.values >= 37].sort_values(ascending = False)[:5].index\n",
    "Y = srpopular[srpopular.values >= 37].sort_values(ascending = False)[:5].values\n",
    "plt.bar(x = X, height = Y, color = cores)\n",
    "plt.xticks(rotation=20)\n",
    "\n",
    "plt.title('TOP 5 Melhores Artista', fontsize = 18)\n",
    "plt.xlabel('Artistas', fontsize = 12)\n",
    "plt.ylabel('Popularidade', fontsize = 12)"
   ]
  },
  {
   "cell_type": "code",
   "execution_count": 28,
   "id": "fcf49120",
   "metadata": {},
   "outputs": [
    {
     "name": "stdout",
     "output_type": "stream",
     "text": [
      "Mínimo: 0.0, Máximo: 100.0, Média: 34.386493315943916\n"
     ]
    },
    {
     "data": {
      "text/plain": [
       "Text(0, 0.5, 'Popularidade')"
      ]
     },
     "execution_count": 28,
     "metadata": {},
     "output_type": "execute_result"
    },
    {
     "data": {
      "image/png": "[encoded data removed]",
      "text/plain": [
       "<Figure size 1080x432 with 1 Axes>"
      ]
     },
     "metadata": {
      "needs_background": "light"
     },
     "output_type": "display_data"
    }
   ],
   "source": [
    "srpopular = df.groupby(by='track_name').mean().popularity\n",
    "print(f'Mínimo: {srpopular.min()}, Máximo: {srpopular.max()}, Média: {srpopular.mean()}')\n",
    "plt.figure(figsize = (15,6))\n",
    "cores = ['gray']*10\n",
    "cores[0] = 'b'\n",
    "srpopular[srpopular.values >= 37].sort_values(ascending = False)[:5]\n",
    "\n",
    "X = srpopular[srpopular.values >= 37].sort_values(ascending = False)[:5].index\n",
    "Y = srpopular[srpopular.values >= 37].sort_values(ascending = False)[:5].values\n",
    "plt.bar(x = X, height = Y, color = cores)\n",
    "plt.xticks(rotation=20)\n",
    "\n",
    "plt.title('TOP 5 Melhores Músicas', fontsize = 18)\n",
    "plt.xlabel('Músicas', fontsize = 12)\n",
    "plt.ylabel('Popularidade', fontsize = 12)"
   ]
  },
  {
   "cell_type": "markdown",
   "id": "ea1f5525",
   "metadata": {},
   "source": [
    "Também existe popularidade entre os artistas.\n",
    "\n",
    "Note que existem mais de 1 track para um mesmo artista, pois se o artista cantou com outra pessoa aquela track pode estar com maior popularidade. Neste sentido, separar por artistas não reflete a popularidade do artista em si (ou dos artistas) e sim da track específica"
   ]
  },
  {
   "cell_type": "code",
   "execution_count": 29,
   "id": "00b87c02",
   "metadata": {},
   "outputs": [
    {
     "data": {
      "text/plain": [
       "5SuOikwiRyPMVoIQDJUgSV    1\n",
       "5cjBiZxqUDm5wtc3NeePEl    1\n",
       "393MehrSEiQgRYARQAixkT    1\n",
       "7qAo2NkNmWt0uwbIlgHAMX    1\n",
       "3VsqVo7lHy1hN1CwlXlW3P    1\n",
       "                         ..\n",
       "7KAQwDyAcdiHZhQU01KLkN    1\n",
       "22UlKuHDa7r3Pyg47CJNI6    1\n",
       "4mCbVmQ3Z4AkltKzwGSN0X    1\n",
       "5p54INLXgza6Do7nTsFPpG    1\n",
       "2hETkH7cOfqmz3LqZDHZf5    1\n",
       "Name: track_id, Length: 73609, dtype: int64"
      ]
     },
     "execution_count": 29,
     "metadata": {},
     "output_type": "execute_result"
    }
   ],
   "source": [
    "df.track_id.value_counts()"
   ]
  },
  {
   "cell_type": "code",
   "execution_count": 30,
   "id": "1a61412d",
   "metadata": {},
   "outputs": [
    {
     "data": {
      "text/html": [
       "<div>\n",
       "<style scoped>\n",
       "    .dataframe tbody tr th:only-of-type {\n",
       "        vertical-align: middle;\n",
       "    }\n",
       "\n",
       "    .dataframe tbody tr th {\n",
       "        vertical-align: top;\n",
       "    }\n",
       "\n",
       "    .dataframe thead th {\n",
       "        text-align: right;\n",
       "    }\n",
       "</style>\n",
       "<table border=\"1\" class=\"dataframe\">\n",
       "  <thead>\n",
       "    <tr style=\"text-align: right;\">\n",
       "      <th></th>\n",
       "      <th>track_id</th>\n",
       "      <th>artists</th>\n",
       "      <th>album_name</th>\n",
       "      <th>track_name</th>\n",
       "      <th>popularity</th>\n",
       "      <th>duration_ms</th>\n",
       "      <th>explicit</th>\n",
       "      <th>danceability</th>\n",
       "      <th>energy</th>\n",
       "      <th>key</th>\n",
       "      <th>loudness</th>\n",
       "      <th>mode</th>\n",
       "      <th>speechiness</th>\n",
       "      <th>acousticness</th>\n",
       "      <th>instrumentalness</th>\n",
       "      <th>liveness</th>\n",
       "      <th>valence</th>\n",
       "      <th>tempo</th>\n",
       "      <th>time_signature</th>\n",
       "      <th>track_genre</th>\n",
       "    </tr>\n",
       "  </thead>\n",
       "  <tbody>\n",
       "    <tr>\n",
       "      <th>8315</th>\n",
       "      <td>6S3JlDAGk3uu3NtZbPnuhS</td>\n",
       "      <td>Badfinger</td>\n",
       "      <td>Straight Up (Remastered 2010 / Deluxe Edition)</td>\n",
       "      <td>Baby Blue - Remastered 2010</td>\n",
       "      <td>67</td>\n",
       "      <td>217346</td>\n",
       "      <td>False</td>\n",
       "      <td>0.623</td>\n",
       "      <td>0.876</td>\n",
       "      <td>11</td>\n",
       "      <td>-7.788</td>\n",
       "      <td>1</td>\n",
       "      <td>0.066</td>\n",
       "      <td>0.0189</td>\n",
       "      <td>0.0134</td>\n",
       "      <td>0.0728</td>\n",
       "      <td>0.515</td>\n",
       "      <td>124.431</td>\n",
       "      <td>4</td>\n",
       "      <td>blues</td>\n",
       "    </tr>\n",
       "  </tbody>\n",
       "</table>\n",
       "</div>"
      ],
      "text/plain": [
       "                    track_id    artists  \\\n",
       "8315  6S3JlDAGk3uu3NtZbPnuhS  Badfinger   \n",
       "\n",
       "                                          album_name  \\\n",
       "8315  Straight Up (Remastered 2010 / Deluxe Edition)   \n",
       "\n",
       "                       track_name  popularity  duration_ms  explicit  \\\n",
       "8315  Baby Blue - Remastered 2010          67       217346     False   \n",
       "\n",
       "      danceability  energy  key  loudness  mode  speechiness  acousticness  \\\n",
       "8315         0.623   0.876   11    -7.788     1        0.066        0.0189   \n",
       "\n",
       "      instrumentalness  liveness  valence    tempo  time_signature track_genre  \n",
       "8315            0.0134    0.0728    0.515  124.431               4       blues  "
      ]
     },
     "execution_count": 30,
     "metadata": {},
     "output_type": "execute_result"
    }
   ],
   "source": [
    "df[df.track_id =='6S3JlDAGk3uu3NtZbPnuhS' ]"
   ]
  },
  {
   "cell_type": "markdown",
   "id": "495ca94a",
   "metadata": {},
   "source": [
    "Pesquisando na documentação do Spotipy (provável uso para obtenção dos dados) a coluna track_genre se refere ao gêneros que o artista está associado, e não a música específica. Desta forma é possível ter dados duplicados com alteração no gênero."
   ]
  },
  {
   "cell_type": "code",
   "execution_count": 31,
   "id": "d80f15e7",
   "metadata": {},
   "outputs": [],
   "source": [
    "colunas = [\n",
    "'popularity',\n",
    "'duration_ms',\n",
    "'danceability',\n",
    "'energy',\n",
    "'key',\n",
    "'loudness',\n",
    "'mode',\n",
    "'speechiness',\n",
    "'acousticness',\n",
    "'instrumentalness',\n",
    "'liveness',\n",
    "'valence',\n",
    "'tempo',\n",
    "'time_signature']"
   ]
  },
  {
   "cell_type": "code",
   "execution_count": 32,
   "id": "ffad8cf7",
   "metadata": {},
   "outputs": [
    {
     "name": "stdout",
     "output_type": "stream",
     "text": [
      "popularity\n"
     ]
    },
    {
     "data": {
      "image/png": "[encoded data removed]",
      "text/plain": [
       "<Figure size 432x288 with 1 Axes>"
      ]
     },
     "metadata": {
      "needs_background": "light"
     },
     "output_type": "display_data"
    },
    {
     "name": "stdout",
     "output_type": "stream",
     "text": [
      "duration_ms\n"
     ]
    },
    {
     "data": {
      "image/png": "[encoded data removed]",
      "text/plain": [
       "<Figure size 432x288 with 1 Axes>"
      ]
     },
     "metadata": {
      "needs_background": "light"
     },
     "output_type": "display_data"
    },
    {
     "name": "stdout",
     "output_type": "stream",
     "text": [
      "danceability\n"
     ]
    },
    {
     "data": {
      "image/png": "[encoded data removed]",
      "text/plain": [
       "<Figure size 432x288 with 1 Axes>"
      ]
     },
     "metadata": {
      "needs_background": "light"
     },
     "output_type": "display_data"
    },
    {
     "name": "stdout",
     "output_type": "stream",
     "text": [
      "energy\n"
     ]
    },
    {
     "data": {
      "image/png": "[encoded data removed]",
      "text/plain": [
       "<Figure size 432x288 with 1 Axes>"
      ]
     },
     "metadata": {
      "needs_background": "light"
     },
     "output_type": "display_data"
    },
    {
     "name": "stdout",
     "output_type": "stream",
     "text": [
      "key\n"
     ]
    },
    {
     "data": {
      "image/png": "[encoded data removed]",
      "text/plain": [
       "<Figure size 432x288 with 1 Axes>"
      ]
     },
     "metadata": {
      "needs_background": "light"
     },
     "output_type": "display_data"
    },
    {
     "name": "stdout",
     "output_type": "stream",
     "text": [
      "loudness\n"
     ]
    },
    {
     "data": {
      "image/png": "[encoded data removed]",
      "text/plain": [
       "<Figure size 432x288 with 1 Axes>"
      ]
     },
     "metadata": {
      "needs_background": "light"
     },
     "output_type": "display_data"
    },
    {
     "name": "stdout",
     "output_type": "stream",
     "text": [
      "mode\n"
     ]
    },
    {
     "data": {
      "image/png": "[encoded data removed]",
      "text/plain": [
       "<Figure size 432x288 with 1 Axes>"
      ]
     },
     "metadata": {
      "needs_background": "light"
     },
     "output_type": "display_data"
    },
    {
     "name": "stdout",
     "output_type": "stream",
     "text": [
      "speechiness\n"
     ]
    },
    {
     "data": {
      "image/png": "[encoded data removed]",
      "text/plain": [
       "<Figure size 432x288 with 1 Axes>"
      ]
     },
     "metadata": {
      "needs_background": "light"
     },
     "output_type": "display_data"
    },
    {
     "name": "stdout",
     "output_type": "stream",
     "text": [
      "acousticness\n"
     ]
    },
    {
     "data": {
      "image/png": "[encoded data removed]",
      "text/plain": [
       "<Figure size 432x288 with 1 Axes>"
      ]
     },
     "metadata": {
      "needs_background": "light"
     },
     "output_type": "display_data"
    },
    {
     "name": "stdout",
     "output_type": "stream",
     "text": [
      "instrumentalness\n"
     ]
    },
    {
     "data": {
      "image/png": "[encoded data removed]",
      "text/plain": [
       "<Figure size 432x288 with 1 Axes>"
      ]
     },
     "metadata": {
      "needs_background": "light"
     },
     "output_type": "display_data"
    },
    {
     "name": "stdout",
     "output_type": "stream",
     "text": [
      "liveness\n"
     ]
    },
    {
     "data": {
      "image/png": "[encoded data removed]",
      "text/plain": [
       "<Figure size 432x288 with 1 Axes>"
      ]
     },
     "metadata": {
      "needs_background": "light"
     },
     "output_type": "display_data"
    },
    {
     "name": "stdout",
     "output_type": "stream",
     "text": [
      "valence\n"
     ]
    },
    {
     "data": {
      "image/png": "[encoded data removed]",
      "text/plain": [
       "<Figure size 432x288 with 1 Axes>"
      ]
     },
     "metadata": {
      "needs_background": "light"
     },
     "output_type": "display_data"
    },
    {
     "name": "stdout",
     "output_type": "stream",
     "text": [
      "tempo\n"
     ]
    },
    {
     "data": {
      "image/png": "[encoded data removed]",
      "text/plain": [
       "<Figure size 432x288 with 1 Axes>"
      ]
     },
     "metadata": {
      "needs_background": "light"
     },
     "output_type": "display_data"
    },
    {
     "name": "stdout",
     "output_type": "stream",
     "text": [
      "time_signature\n"
     ]
    },
    {
     "data": {
      "image/png": "[encoded data removed]",
      "text/plain": [
       "<Figure size 432x288 with 1 Axes>"
      ]
     },
     "metadata": {
      "needs_background": "light"
     },
     "output_type": "display_data"
    }
   ],
   "source": [
    "for i in colunas:\n",
    "    print(i)\n",
    "    plt.hist( x=df[i])\n",
    "    plt.show()"
   ]
  },
  {
   "cell_type": "code",
   "execution_count": 33,
   "id": "5e3c38d7",
   "metadata": {},
   "outputs": [
    {
     "data": {
      "text/html": [
       "<div>\n",
       "<style scoped>\n",
       "    .dataframe tbody tr th:only-of-type {\n",
       "        vertical-align: middle;\n",
       "    }\n",
       "\n",
       "    .dataframe tbody tr th {\n",
       "        vertical-align: top;\n",
       "    }\n",
       "\n",
       "    .dataframe thead th {\n",
       "        text-align: right;\n",
       "    }\n",
       "</style>\n",
       "<table border=\"1\" class=\"dataframe\">\n",
       "  <thead>\n",
       "    <tr style=\"text-align: right;\">\n",
       "      <th></th>\n",
       "      <th>popularity</th>\n",
       "      <th>duration_ms</th>\n",
       "      <th>danceability</th>\n",
       "      <th>energy</th>\n",
       "      <th>key</th>\n",
       "      <th>loudness</th>\n",
       "      <th>mode</th>\n",
       "      <th>speechiness</th>\n",
       "      <th>acousticness</th>\n",
       "      <th>instrumentalness</th>\n",
       "      <th>liveness</th>\n",
       "      <th>valence</th>\n",
       "      <th>tempo</th>\n",
       "      <th>time_signature</th>\n",
       "    </tr>\n",
       "  </thead>\n",
       "  <tbody>\n",
       "    <tr>\n",
       "      <th>0</th>\n",
       "      <td>73</td>\n",
       "      <td>230666</td>\n",
       "      <td>0.676</td>\n",
       "      <td>0.4610</td>\n",
       "      <td>1</td>\n",
       "      <td>-6.746</td>\n",
       "      <td>0</td>\n",
       "      <td>0.1430</td>\n",
       "      <td>0.0322</td>\n",
       "      <td>0.000001</td>\n",
       "      <td>0.3580</td>\n",
       "      <td>0.7150</td>\n",
       "      <td>87.917</td>\n",
       "      <td>4</td>\n",
       "    </tr>\n",
       "    <tr>\n",
       "      <th>1</th>\n",
       "      <td>55</td>\n",
       "      <td>149610</td>\n",
       "      <td>0.420</td>\n",
       "      <td>0.1660</td>\n",
       "      <td>1</td>\n",
       "      <td>-17.235</td>\n",
       "      <td>1</td>\n",
       "      <td>0.0763</td>\n",
       "      <td>0.9240</td>\n",
       "      <td>0.000006</td>\n",
       "      <td>0.1010</td>\n",
       "      <td>0.2670</td>\n",
       "      <td>77.489</td>\n",
       "      <td>4</td>\n",
       "    </tr>\n",
       "    <tr>\n",
       "      <th>2</th>\n",
       "      <td>57</td>\n",
       "      <td>210826</td>\n",
       "      <td>0.438</td>\n",
       "      <td>0.3590</td>\n",
       "      <td>0</td>\n",
       "      <td>-9.734</td>\n",
       "      <td>1</td>\n",
       "      <td>0.0557</td>\n",
       "      <td>0.2100</td>\n",
       "      <td>0.000000</td>\n",
       "      <td>0.1170</td>\n",
       "      <td>0.1200</td>\n",
       "      <td>76.332</td>\n",
       "      <td>4</td>\n",
       "    </tr>\n",
       "    <tr>\n",
       "      <th>3</th>\n",
       "      <td>71</td>\n",
       "      <td>201933</td>\n",
       "      <td>0.266</td>\n",
       "      <td>0.0596</td>\n",
       "      <td>0</td>\n",
       "      <td>-18.515</td>\n",
       "      <td>1</td>\n",
       "      <td>0.0363</td>\n",
       "      <td>0.9050</td>\n",
       "      <td>0.000071</td>\n",
       "      <td>0.1320</td>\n",
       "      <td>0.1430</td>\n",
       "      <td>181.740</td>\n",
       "      <td>3</td>\n",
       "    </tr>\n",
       "    <tr>\n",
       "      <th>4</th>\n",
       "      <td>82</td>\n",
       "      <td>198853</td>\n",
       "      <td>0.618</td>\n",
       "      <td>0.4430</td>\n",
       "      <td>2</td>\n",
       "      <td>-9.681</td>\n",
       "      <td>1</td>\n",
       "      <td>0.0526</td>\n",
       "      <td>0.4690</td>\n",
       "      <td>0.000000</td>\n",
       "      <td>0.0829</td>\n",
       "      <td>0.1670</td>\n",
       "      <td>119.949</td>\n",
       "      <td>4</td>\n",
       "    </tr>\n",
       "    <tr>\n",
       "      <th>...</th>\n",
       "      <td>...</td>\n",
       "      <td>...</td>\n",
       "      <td>...</td>\n",
       "      <td>...</td>\n",
       "      <td>...</td>\n",
       "      <td>...</td>\n",
       "      <td>...</td>\n",
       "      <td>...</td>\n",
       "      <td>...</td>\n",
       "      <td>...</td>\n",
       "      <td>...</td>\n",
       "      <td>...</td>\n",
       "      <td>...</td>\n",
       "      <td>...</td>\n",
       "    </tr>\n",
       "    <tr>\n",
       "      <th>113994</th>\n",
       "      <td>22</td>\n",
       "      <td>305454</td>\n",
       "      <td>0.331</td>\n",
       "      <td>0.1710</td>\n",
       "      <td>1</td>\n",
       "      <td>-15.668</td>\n",
       "      <td>1</td>\n",
       "      <td>0.0350</td>\n",
       "      <td>0.9200</td>\n",
       "      <td>0.022900</td>\n",
       "      <td>0.0679</td>\n",
       "      <td>0.3270</td>\n",
       "      <td>132.147</td>\n",
       "      <td>3</td>\n",
       "    </tr>\n",
       "    <tr>\n",
       "      <th>113995</th>\n",
       "      <td>21</td>\n",
       "      <td>384999</td>\n",
       "      <td>0.172</td>\n",
       "      <td>0.2350</td>\n",
       "      <td>5</td>\n",
       "      <td>-16.393</td>\n",
       "      <td>1</td>\n",
       "      <td>0.0422</td>\n",
       "      <td>0.6400</td>\n",
       "      <td>0.928000</td>\n",
       "      <td>0.0863</td>\n",
       "      <td>0.0339</td>\n",
       "      <td>125.995</td>\n",
       "      <td>5</td>\n",
       "    </tr>\n",
       "    <tr>\n",
       "      <th>113996</th>\n",
       "      <td>22</td>\n",
       "      <td>385000</td>\n",
       "      <td>0.174</td>\n",
       "      <td>0.1170</td>\n",
       "      <td>0</td>\n",
       "      <td>-18.318</td>\n",
       "      <td>0</td>\n",
       "      <td>0.0401</td>\n",
       "      <td>0.9940</td>\n",
       "      <td>0.976000</td>\n",
       "      <td>0.1050</td>\n",
       "      <td>0.0350</td>\n",
       "      <td>85.239</td>\n",
       "      <td>4</td>\n",
       "    </tr>\n",
       "    <tr>\n",
       "      <th>113997</th>\n",
       "      <td>22</td>\n",
       "      <td>271466</td>\n",
       "      <td>0.629</td>\n",
       "      <td>0.3290</td>\n",
       "      <td>0</td>\n",
       "      <td>-10.895</td>\n",
       "      <td>0</td>\n",
       "      <td>0.0420</td>\n",
       "      <td>0.8670</td>\n",
       "      <td>0.000000</td>\n",
       "      <td>0.0839</td>\n",
       "      <td>0.7430</td>\n",
       "      <td>132.378</td>\n",
       "      <td>4</td>\n",
       "    </tr>\n",
       "    <tr>\n",
       "      <th>113999</th>\n",
       "      <td>22</td>\n",
       "      <td>241826</td>\n",
       "      <td>0.526</td>\n",
       "      <td>0.4870</td>\n",
       "      <td>1</td>\n",
       "      <td>-10.204</td>\n",
       "      <td>0</td>\n",
       "      <td>0.0725</td>\n",
       "      <td>0.6810</td>\n",
       "      <td>0.000000</td>\n",
       "      <td>0.0893</td>\n",
       "      <td>0.7080</td>\n",
       "      <td>79.198</td>\n",
       "      <td>4</td>\n",
       "    </tr>\n",
       "  </tbody>\n",
       "</table>\n",
       "<p>73609 rows × 14 columns</p>\n",
       "</div>"
      ],
      "text/plain": [
       "        popularity  duration_ms  danceability  energy  key  loudness  mode  \\\n",
       "0               73       230666         0.676  0.4610    1    -6.746     0   \n",
       "1               55       149610         0.420  0.1660    1   -17.235     1   \n",
       "2               57       210826         0.438  0.3590    0    -9.734     1   \n",
       "3               71       201933         0.266  0.0596    0   -18.515     1   \n",
       "4               82       198853         0.618  0.4430    2    -9.681     1   \n",
       "...            ...          ...           ...     ...  ...       ...   ...   \n",
       "113994          22       305454         0.331  0.1710    1   -15.668     1   \n",
       "113995          21       384999         0.172  0.2350    5   -16.393     1   \n",
       "113996          22       385000         0.174  0.1170    0   -18.318     0   \n",
       "113997          22       271466         0.629  0.3290    0   -10.895     0   \n",
       "113999          22       241826         0.526  0.4870    1   -10.204     0   \n",
       "\n",
       "        speechiness  acousticness  instrumentalness  liveness  valence  \\\n",
       "0            0.1430        0.0322          0.000001    0.3580   0.7150   \n",
       "1            0.0763        0.9240          0.000006    0.1010   0.2670   \n",
       "2            0.0557        0.2100          0.000000    0.1170   0.1200   \n",
       "3            0.0363        0.9050          0.000071    0.1320   0.1430   \n",
       "4            0.0526        0.4690          0.000000    0.0829   0.1670   \n",
       "...             ...           ...               ...       ...      ...   \n",
       "113994       0.0350        0.9200          0.022900    0.0679   0.3270   \n",
       "113995       0.0422        0.6400          0.928000    0.0863   0.0339   \n",
       "113996       0.0401        0.9940          0.976000    0.1050   0.0350   \n",
       "113997       0.0420        0.8670          0.000000    0.0839   0.7430   \n",
       "113999       0.0725        0.6810          0.000000    0.0893   0.7080   \n",
       "\n",
       "          tempo  time_signature  \n",
       "0        87.917               4  \n",
       "1        77.489               4  \n",
       "2        76.332               4  \n",
       "3       181.740               3  \n",
       "4       119.949               4  \n",
       "...         ...             ...  \n",
       "113994  132.147               3  \n",
       "113995  125.995               5  \n",
       "113996   85.239               4  \n",
       "113997  132.378               4  \n",
       "113999   79.198               4  \n",
       "\n",
       "[73609 rows x 14 columns]"
      ]
     },
     "execution_count": 33,
     "metadata": {},
     "output_type": "execute_result"
    }
   ],
   "source": [
    "df[colunas]"
   ]
  },
  {
   "cell_type": "code",
   "execution_count": 34,
   "id": "d45a94f0",
   "metadata": {},
   "outputs": [
    {
     "data": {
      "text/plain": [
       "False    67245\n",
       "True      6364\n",
       "Name: explicit, dtype: int64"
      ]
     },
     "execution_count": 34,
     "metadata": {},
     "output_type": "execute_result"
    }
   ],
   "source": [
    "df.explicit.value_counts()"
   ]
  },
  {
   "cell_type": "code",
   "execution_count": 35,
   "id": "fe2d9da1",
   "metadata": {},
   "outputs": [
    {
     "data": {
      "text/plain": [
       "<AxesSubplot:xlabel='popularity', ylabel='Count'>"
      ]
     },
     "execution_count": 35,
     "metadata": {},
     "output_type": "execute_result"
    },
    {
     "data": {
      "image/png": "[encoded data removed]",
      "text/plain": [
       "<Figure size 432x288 with 1 Axes>"
      ]
     },
     "metadata": {
      "needs_background": "light"
     },
     "output_type": "display_data"
    }
   ],
   "source": [
    "sns.histplot( x=df['popularity'], hue = df['explicit'])"
   ]
  },
  {
   "cell_type": "markdown",
   "id": "c70c667f",
   "metadata": {},
   "source": [
    "Em relação ao explicit, que é ter ou não letra na música, não existe correlação com a popularidade. Apenas existe correlação com a spechless, que diz quão a música é falada. \n",
    "\n",
    "Ter ou não letra também não apresenta uma carga forte no momento de criar um modelo, já que não apresenta correlação com outros dados."
   ]
  },
  {
   "cell_type": "markdown",
   "id": "537f0ae6",
   "metadata": {},
   "source": [
    "# Alterar dimensão dos dados para normalizar"
   ]
  },
  {
   "cell_type": "code",
   "execution_count": 36,
   "id": "fb9e04af",
   "metadata": {},
   "outputs": [
    {
     "data": {
      "text/plain": [
       "0         0\n",
       "1         0\n",
       "2         0\n",
       "3         0\n",
       "4         0\n",
       "         ..\n",
       "113994    0\n",
       "113995    0\n",
       "113996    0\n",
       "113997    0\n",
       "113999    0\n",
       "Name: explicit, Length: 73609, dtype: int64"
      ]
     },
     "execution_count": 36,
     "metadata": {},
     "output_type": "execute_result"
    }
   ],
   "source": [
    "df.explicit = df.explicit.map({False:0, True:1})\n",
    "df.explicit"
   ]
  },
  {
   "cell_type": "code",
   "execution_count": 37,
   "id": "5b211046",
   "metadata": {},
   "outputs": [
    {
     "name": "stdout",
     "output_type": "stream",
     "text": [
      "<class 'pandas.core.frame.DataFrame'>\n",
      "RangeIndex: 73609 entries, 0 to 73608\n",
      "Data columns (total 15 columns):\n",
      " #   Column            Non-Null Count  Dtype  \n",
      "---  ------            --------------  -----  \n",
      " 0   popularity        73609 non-null  float64\n",
      " 1   duration_ms       73609 non-null  float64\n",
      " 2   danceability      73609 non-null  float64\n",
      " 3   energy            73609 non-null  float64\n",
      " 4   key               73609 non-null  float64\n",
      " 5   loudness          73609 non-null  float64\n",
      " 6   mode              73609 non-null  float64\n",
      " 7   speechiness       73609 non-null  float64\n",
      " 8   acousticness      73609 non-null  float64\n",
      " 9   instrumentalness  73609 non-null  float64\n",
      " 10  liveness          73609 non-null  float64\n",
      " 11  valence           73609 non-null  float64\n",
      " 12  tempo             73609 non-null  float64\n",
      " 13  time_signature    73609 non-null  float64\n",
      " 14  explicit          73609 non-null  float64\n",
      "dtypes: float64(15)\n",
      "memory usage: 8.4 MB\n"
     ]
    }
   ],
   "source": [
    "from sklearn import preprocessing\n",
    "\n",
    "colunas.append('explicit')\n",
    "x = df[colunas].values #returns a numpy array\n",
    "min_max_scaler = preprocessing.MinMaxScaler()\n",
    "x_scaled = min_max_scaler.fit_transform(x)\n",
    "df1 = pd.DataFrame(x_scaled, columns = colunas)\n",
    "df1.info()"
   ]
  },
  {
   "cell_type": "code",
   "execution_count": 38,
   "id": "f1a7ec64",
   "metadata": {},
   "outputs": [],
   "source": [
    "df1.to_csv('dataset_normalizado.csv', index = False)"
   ]
  },
  {
   "cell_type": "code",
   "execution_count": 39,
   "id": "50f926fc",
   "metadata": {},
   "outputs": [],
   "source": [
    "df.to_csv('dataset_tratado_completo.csv', index = False)"
   ]
  }
 ],
 "metadata": {
  "kernelspec": {
   "display_name": "Python 3 (ipykernel)",
   "language": "python",
   "name": "python3"
  },
  "language_info": {
   "codemirror_mode": {
    "name": "ipython",
    "version": 3
   },
   "file_extension": ".py",
   "mimetype": "text/x-python",
   "name": "python",
   "nbconvert_exporter": "python",
   "pygments_lexer": "ipython3",
   "version": "3.9.12"
  }
 },
 "nbformat": 4,
 "nbformat_minor": 5
}
