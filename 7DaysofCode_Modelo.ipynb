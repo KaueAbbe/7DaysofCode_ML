{
 "cells": [
  {
   "cell_type": "markdown",
   "id": "70284cff",
   "metadata": {},
   "source": [
    "<font color = 'green' size =6>7 Days Of Code Dia 2 e 3: Classificação de Popularidade</font>\n",
    "\n",
    "Neste dia vou utilizar os dados tratados do dia 1 para realizar um modelo de classificação de Popularidade.\n",
    "\n",
    "Este modelo se trata de um modelo supervisionado do tipo classificação. \n",
    "\n",
    "Tarefas Neste notebook:\n",
    "1. Decidir critério para decidir popularidade (o menos enviesado possível)\n",
    "2. Analisar equilíbrio dos dados\n",
    "3. Criar modelo básico e Dummy\n",
    "4. Avaliar diferentes métricas\n",
    "5. Comparar com 2 modelos diferentes\n",
    "6. Averificar Hiperparâmetros\n",
    "\n",
    "\n",
    "# Importar Bibliotecas e Ler os Dados\n"
   ]
  },
  {
   "cell_type": "code",
   "execution_count": 1,
   "id": "5f6aa3a9",
   "metadata": {},
   "outputs": [],
   "source": [
    "import numpy as np\n",
    "import pandas as pd\n",
    "import matplotlib.pyplot as plt"
   ]
  },
  {
   "cell_type": "code",
   "execution_count": 2,
   "id": "af4276e3",
   "metadata": {},
   "outputs": [
    {
     "data": {
      "text/html": [
       "<div>\n",
       "<style scoped>\n",
       "    .dataframe tbody tr th:only-of-type {\n",
       "        vertical-align: middle;\n",
       "    }\n",
       "\n",
       "    .dataframe tbody tr th {\n",
       "        vertical-align: top;\n",
       "    }\n",
       "\n",
       "    .dataframe thead th {\n",
       "        text-align: right;\n",
       "    }\n",
       "</style>\n",
       "<table border=\"1\" class=\"dataframe\">\n",
       "  <thead>\n",
       "    <tr style=\"text-align: right;\">\n",
       "      <th></th>\n",
       "      <th>popularity</th>\n",
       "      <th>duration_ms</th>\n",
       "      <th>danceability</th>\n",
       "      <th>energy</th>\n",
       "      <th>key</th>\n",
       "      <th>loudness</th>\n",
       "      <th>mode</th>\n",
       "      <th>speechiness</th>\n",
       "      <th>acousticness</th>\n",
       "      <th>instrumentalness</th>\n",
       "      <th>liveness</th>\n",
       "      <th>valence</th>\n",
       "      <th>tempo</th>\n",
       "      <th>time_signature</th>\n",
       "      <th>explicit</th>\n",
       "    </tr>\n",
       "  </thead>\n",
       "  <tbody>\n",
       "    <tr>\n",
       "      <th>0</th>\n",
       "      <td>0.73</td>\n",
       "      <td>0.044043</td>\n",
       "      <td>0.686294</td>\n",
       "      <td>0.4610</td>\n",
       "      <td>0.090909</td>\n",
       "      <td>0.791392</td>\n",
       "      <td>0.0</td>\n",
       "      <td>0.148187</td>\n",
       "      <td>0.032329</td>\n",
       "      <td>0.000001</td>\n",
       "      <td>0.3580</td>\n",
       "      <td>0.718593</td>\n",
       "      <td>0.361245</td>\n",
       "      <td>0.8</td>\n",
       "      <td>0.0</td>\n",
       "    </tr>\n",
       "    <tr>\n",
       "      <th>1</th>\n",
       "      <td>0.55</td>\n",
       "      <td>0.028566</td>\n",
       "      <td>0.426396</td>\n",
       "      <td>0.1660</td>\n",
       "      <td>0.090909</td>\n",
       "      <td>0.597377</td>\n",
       "      <td>1.0</td>\n",
       "      <td>0.079067</td>\n",
       "      <td>0.927711</td>\n",
       "      <td>0.000006</td>\n",
       "      <td>0.1010</td>\n",
       "      <td>0.268342</td>\n",
       "      <td>0.318397</td>\n",
       "      <td>0.8</td>\n",
       "      <td>0.0</td>\n",
       "    </tr>\n",
       "    <tr>\n",
       "      <th>2</th>\n",
       "      <td>0.57</td>\n",
       "      <td>0.040255</td>\n",
       "      <td>0.444670</td>\n",
       "      <td>0.3590</td>\n",
       "      <td>0.000000</td>\n",
       "      <td>0.736123</td>\n",
       "      <td>1.0</td>\n",
       "      <td>0.057720</td>\n",
       "      <td>0.210843</td>\n",
       "      <td>0.000000</td>\n",
       "      <td>0.1170</td>\n",
       "      <td>0.120603</td>\n",
       "      <td>0.313643</td>\n",
       "      <td>0.8</td>\n",
       "      <td>0.0</td>\n",
       "    </tr>\n",
       "    <tr>\n",
       "      <th>3</th>\n",
       "      <td>0.71</td>\n",
       "      <td>0.038557</td>\n",
       "      <td>0.270051</td>\n",
       "      <td>0.0596</td>\n",
       "      <td>0.000000</td>\n",
       "      <td>0.573701</td>\n",
       "      <td>1.0</td>\n",
       "      <td>0.037617</td>\n",
       "      <td>0.908635</td>\n",
       "      <td>0.000071</td>\n",
       "      <td>0.1320</td>\n",
       "      <td>0.143719</td>\n",
       "      <td>0.746758</td>\n",
       "      <td>0.6</td>\n",
       "      <td>0.0</td>\n",
       "    </tr>\n",
       "    <tr>\n",
       "      <th>4</th>\n",
       "      <td>0.82</td>\n",
       "      <td>0.037969</td>\n",
       "      <td>0.627411</td>\n",
       "      <td>0.4430</td>\n",
       "      <td>0.181818</td>\n",
       "      <td>0.737103</td>\n",
       "      <td>1.0</td>\n",
       "      <td>0.054508</td>\n",
       "      <td>0.470884</td>\n",
       "      <td>0.000000</td>\n",
       "      <td>0.0829</td>\n",
       "      <td>0.167839</td>\n",
       "      <td>0.492863</td>\n",
       "      <td>0.8</td>\n",
       "      <td>0.0</td>\n",
       "    </tr>\n",
       "  </tbody>\n",
       "</table>\n",
       "</div>"
      ],
      "text/plain": [
       "   popularity  duration_ms  danceability  energy       key  loudness  mode  \\\n",
       "0        0.73     0.044043      0.686294  0.4610  0.090909  0.791392   0.0   \n",
       "1        0.55     0.028566      0.426396  0.1660  0.090909  0.597377   1.0   \n",
       "2        0.57     0.040255      0.444670  0.3590  0.000000  0.736123   1.0   \n",
       "3        0.71     0.038557      0.270051  0.0596  0.000000  0.573701   1.0   \n",
       "4        0.82     0.037969      0.627411  0.4430  0.181818  0.737103   1.0   \n",
       "\n",
       "   speechiness  acousticness  instrumentalness  liveness   valence     tempo  \\\n",
       "0     0.148187      0.032329          0.000001    0.3580  0.718593  0.361245   \n",
       "1     0.079067      0.927711          0.000006    0.1010  0.268342  0.318397   \n",
       "2     0.057720      0.210843          0.000000    0.1170  0.120603  0.313643   \n",
       "3     0.037617      0.908635          0.000071    0.1320  0.143719  0.746758   \n",
       "4     0.054508      0.470884          0.000000    0.0829  0.167839  0.492863   \n",
       "\n",
       "   time_signature  explicit  \n",
       "0             0.8       0.0  \n",
       "1             0.8       0.0  \n",
       "2             0.8       0.0  \n",
       "3             0.6       0.0  \n",
       "4             0.8       0.0  "
      ]
     },
     "execution_count": 2,
     "metadata": {},
     "output_type": "execute_result"
    }
   ],
   "source": [
    "df = pd.read_csv('https://raw.githubusercontent.com/KaueAbbe/7DaysofCode_ML/main/dataset_normalizado.csv')\n",
    "df.head()"
   ]
  },
  {
   "cell_type": "markdown",
   "id": "b2bbb1db",
   "metadata": {},
   "source": [
    "# 1. Critério de Popularidade\n",
    "## Como se distribui a popularidade?"
   ]
  },
  {
   "cell_type": "code",
   "execution_count": 3,
   "id": "a070a498",
   "metadata": {},
   "outputs": [
    {
     "data": {
      "text/plain": [
       "(array([ 8026.,  7972., 16648., 10719., 13131., 10278.,  4576.,  1829.,\n",
       "          396.,    34.]),\n",
       " array([0. , 0.1, 0.2, 0.3, 0.4, 0.5, 0.6, 0.7, 0.8, 0.9, 1. ]),\n",
       " <BarContainer object of 10 artists>)"
      ]
     },
     "execution_count": 3,
     "metadata": {},
     "output_type": "execute_result"
    },
    {
     "data": {
      "image/png": "[encoded data removed]",
      "text/plain": [
       "<Figure size 432x288 with 1 Axes>"
      ]
     },
     "metadata": {
      "needs_background": "light"
     },
     "output_type": "display_data"
    }
   ],
   "source": [
    "plt.hist(df.popularity)"
   ]
  },
  {
   "cell_type": "markdown",
   "id": "c6369c5c",
   "metadata": {},
   "source": [
    "Tenho muito mais valores de dados abaixo de 0.5 (metade de 1) do que acima de 0.5. Caso o critério seja maior que 0.8 para ser considerado popular terá muito pouco popular comparados com impopular. Vou utilizar primeiro como critérios acima de 0.6 pois já é difícil ter valores maior que 0.6. \n",
    "\n",
    "## Aplicando Critério"
   ]
  },
  {
   "cell_type": "code",
   "execution_count": 4,
   "id": "2252f8c2",
   "metadata": {},
   "outputs": [
    {
     "data": {
      "text/plain": [
       "array([0.73, 0.55, 0.57, ..., 0.22, 0.22, 0.22])"
      ]
     },
     "execution_count": 4,
     "metadata": {},
     "output_type": "execute_result"
    }
   ],
   "source": [
    "valores_popular = df.popularity.values\n",
    "valores_popular "
   ]
  },
  {
   "cell_type": "code",
   "execution_count": 5,
   "id": "bb9c374e",
   "metadata": {},
   "outputs": [
    {
     "data": {
      "text/plain": [
       "array([1., 0., 0., ..., 0., 0., 0.])"
      ]
     },
     "execution_count": 5,
     "metadata": {},
     "output_type": "execute_result"
    }
   ],
   "source": [
    "\n",
    "condlist = [valores_popular >= 0.6]\n",
    "choicelist = [valores_popular]\n",
    "clas_popular = np.select(condlist, [np.ones((1,len(choicelist[0])))], 0)\n",
    "clas_popular[0]"
   ]
  },
  {
   "cell_type": "code",
   "execution_count": 6,
   "id": "9fba6837",
   "metadata": {},
   "outputs": [],
   "source": [
    "df['popularityClassifier'] = clas_popular[0]"
   ]
  },
  {
   "cell_type": "code",
   "execution_count": 7,
   "id": "a0a2acc3",
   "metadata": {},
   "outputs": [
    {
     "data": {
      "text/html": [
       "<div>\n",
       "<style scoped>\n",
       "    .dataframe tbody tr th:only-of-type {\n",
       "        vertical-align: middle;\n",
       "    }\n",
       "\n",
       "    .dataframe tbody tr th {\n",
       "        vertical-align: top;\n",
       "    }\n",
       "\n",
       "    .dataframe thead th {\n",
       "        text-align: right;\n",
       "    }\n",
       "</style>\n",
       "<table border=\"1\" class=\"dataframe\">\n",
       "  <thead>\n",
       "    <tr style=\"text-align: right;\">\n",
       "      <th></th>\n",
       "      <th>popularity</th>\n",
       "      <th>duration_ms</th>\n",
       "      <th>danceability</th>\n",
       "      <th>energy</th>\n",
       "      <th>key</th>\n",
       "      <th>loudness</th>\n",
       "      <th>mode</th>\n",
       "      <th>speechiness</th>\n",
       "      <th>acousticness</th>\n",
       "      <th>instrumentalness</th>\n",
       "      <th>liveness</th>\n",
       "      <th>valence</th>\n",
       "      <th>tempo</th>\n",
       "      <th>time_signature</th>\n",
       "      <th>explicit</th>\n",
       "      <th>popularityClassifier</th>\n",
       "    </tr>\n",
       "  </thead>\n",
       "  <tbody>\n",
       "    <tr>\n",
       "      <th>0</th>\n",
       "      <td>0.73</td>\n",
       "      <td>0.044043</td>\n",
       "      <td>0.686294</td>\n",
       "      <td>0.4610</td>\n",
       "      <td>0.090909</td>\n",
       "      <td>0.791392</td>\n",
       "      <td>0.0</td>\n",
       "      <td>0.148187</td>\n",
       "      <td>0.032329</td>\n",
       "      <td>0.000001</td>\n",
       "      <td>0.3580</td>\n",
       "      <td>0.718593</td>\n",
       "      <td>0.361245</td>\n",
       "      <td>0.8</td>\n",
       "      <td>0.0</td>\n",
       "      <td>1.0</td>\n",
       "    </tr>\n",
       "    <tr>\n",
       "      <th>1</th>\n",
       "      <td>0.55</td>\n",
       "      <td>0.028566</td>\n",
       "      <td>0.426396</td>\n",
       "      <td>0.1660</td>\n",
       "      <td>0.090909</td>\n",
       "      <td>0.597377</td>\n",
       "      <td>1.0</td>\n",
       "      <td>0.079067</td>\n",
       "      <td>0.927711</td>\n",
       "      <td>0.000006</td>\n",
       "      <td>0.1010</td>\n",
       "      <td>0.268342</td>\n",
       "      <td>0.318397</td>\n",
       "      <td>0.8</td>\n",
       "      <td>0.0</td>\n",
       "      <td>0.0</td>\n",
       "    </tr>\n",
       "    <tr>\n",
       "      <th>2</th>\n",
       "      <td>0.57</td>\n",
       "      <td>0.040255</td>\n",
       "      <td>0.444670</td>\n",
       "      <td>0.3590</td>\n",
       "      <td>0.000000</td>\n",
       "      <td>0.736123</td>\n",
       "      <td>1.0</td>\n",
       "      <td>0.057720</td>\n",
       "      <td>0.210843</td>\n",
       "      <td>0.000000</td>\n",
       "      <td>0.1170</td>\n",
       "      <td>0.120603</td>\n",
       "      <td>0.313643</td>\n",
       "      <td>0.8</td>\n",
       "      <td>0.0</td>\n",
       "      <td>0.0</td>\n",
       "    </tr>\n",
       "    <tr>\n",
       "      <th>3</th>\n",
       "      <td>0.71</td>\n",
       "      <td>0.038557</td>\n",
       "      <td>0.270051</td>\n",
       "      <td>0.0596</td>\n",
       "      <td>0.000000</td>\n",
       "      <td>0.573701</td>\n",
       "      <td>1.0</td>\n",
       "      <td>0.037617</td>\n",
       "      <td>0.908635</td>\n",
       "      <td>0.000071</td>\n",
       "      <td>0.1320</td>\n",
       "      <td>0.143719</td>\n",
       "      <td>0.746758</td>\n",
       "      <td>0.6</td>\n",
       "      <td>0.0</td>\n",
       "      <td>1.0</td>\n",
       "    </tr>\n",
       "    <tr>\n",
       "      <th>4</th>\n",
       "      <td>0.82</td>\n",
       "      <td>0.037969</td>\n",
       "      <td>0.627411</td>\n",
       "      <td>0.4430</td>\n",
       "      <td>0.181818</td>\n",
       "      <td>0.737103</td>\n",
       "      <td>1.0</td>\n",
       "      <td>0.054508</td>\n",
       "      <td>0.470884</td>\n",
       "      <td>0.000000</td>\n",
       "      <td>0.0829</td>\n",
       "      <td>0.167839</td>\n",
       "      <td>0.492863</td>\n",
       "      <td>0.8</td>\n",
       "      <td>0.0</td>\n",
       "      <td>1.0</td>\n",
       "    </tr>\n",
       "  </tbody>\n",
       "</table>\n",
       "</div>"
      ],
      "text/plain": [
       "   popularity  duration_ms  danceability  energy       key  loudness  mode  \\\n",
       "0        0.73     0.044043      0.686294  0.4610  0.090909  0.791392   0.0   \n",
       "1        0.55     0.028566      0.426396  0.1660  0.090909  0.597377   1.0   \n",
       "2        0.57     0.040255      0.444670  0.3590  0.000000  0.736123   1.0   \n",
       "3        0.71     0.038557      0.270051  0.0596  0.000000  0.573701   1.0   \n",
       "4        0.82     0.037969      0.627411  0.4430  0.181818  0.737103   1.0   \n",
       "\n",
       "   speechiness  acousticness  instrumentalness  liveness   valence     tempo  \\\n",
       "0     0.148187      0.032329          0.000001    0.3580  0.718593  0.361245   \n",
       "1     0.079067      0.927711          0.000006    0.1010  0.268342  0.318397   \n",
       "2     0.057720      0.210843          0.000000    0.1170  0.120603  0.313643   \n",
       "3     0.037617      0.908635          0.000071    0.1320  0.143719  0.746758   \n",
       "4     0.054508      0.470884          0.000000    0.0829  0.167839  0.492863   \n",
       "\n",
       "   time_signature  explicit  popularityClassifier  \n",
       "0             0.8       0.0                   1.0  \n",
       "1             0.8       0.0                   0.0  \n",
       "2             0.8       0.0                   0.0  \n",
       "3             0.6       0.0                   1.0  \n",
       "4             0.8       0.0                   1.0  "
      ]
     },
     "execution_count": 7,
     "metadata": {},
     "output_type": "execute_result"
    }
   ],
   "source": [
    "df.head()"
   ]
  },
  {
   "cell_type": "markdown",
   "id": "d4a0d213",
   "metadata": {},
   "source": [
    "# 2. Balanceando Dados"
   ]
  },
  {
   "cell_type": "code",
   "execution_count": 8,
   "id": "535f365b",
   "metadata": {},
   "outputs": [
    {
     "data": {
      "text/plain": [
       "0.0    65984\n",
       "1.0     7625\n",
       "Name: popularityClassifier, dtype: int64"
      ]
     },
     "execution_count": 8,
     "metadata": {},
     "output_type": "execute_result"
    }
   ],
   "source": [
    "df.popularityClassifier.value_counts()"
   ]
  },
  {
   "cell_type": "code",
   "execution_count": 9,
   "id": "2b564814",
   "metadata": {},
   "outputs": [],
   "source": [
    "from imblearn.over_sampling import RandomOverSampler\n",
    "X = df.drop('popularityClassifier', axis = 1)\n",
    "y = df['popularityClassifier']\n",
    "ros = RandomOverSampler(random_state=0)\n",
    "X_resampled, y_resampled = ros.fit_resample(X, y)"
   ]
  },
  {
   "cell_type": "code",
   "execution_count": 10,
   "id": "eaf7a769",
   "metadata": {},
   "outputs": [
    {
     "data": {
      "text/html": [
       "<div>\n",
       "<style scoped>\n",
       "    .dataframe tbody tr th:only-of-type {\n",
       "        vertical-align: middle;\n",
       "    }\n",
       "\n",
       "    .dataframe tbody tr th {\n",
       "        vertical-align: top;\n",
       "    }\n",
       "\n",
       "    .dataframe thead th {\n",
       "        text-align: right;\n",
       "    }\n",
       "</style>\n",
       "<table border=\"1\" class=\"dataframe\">\n",
       "  <thead>\n",
       "    <tr style=\"text-align: right;\">\n",
       "      <th></th>\n",
       "      <th>duration_ms</th>\n",
       "      <th>danceability</th>\n",
       "      <th>energy</th>\n",
       "      <th>key</th>\n",
       "      <th>loudness</th>\n",
       "      <th>mode</th>\n",
       "      <th>speechiness</th>\n",
       "      <th>acousticness</th>\n",
       "      <th>instrumentalness</th>\n",
       "      <th>liveness</th>\n",
       "      <th>valence</th>\n",
       "      <th>tempo</th>\n",
       "      <th>time_signature</th>\n",
       "      <th>explicit</th>\n",
       "    </tr>\n",
       "  </thead>\n",
       "  <tbody>\n",
       "    <tr>\n",
       "      <th>0</th>\n",
       "      <td>0.044043</td>\n",
       "      <td>0.686294</td>\n",
       "      <td>0.4610</td>\n",
       "      <td>0.090909</td>\n",
       "      <td>0.791392</td>\n",
       "      <td>0.0</td>\n",
       "      <td>0.148187</td>\n",
       "      <td>0.032329</td>\n",
       "      <td>0.000001</td>\n",
       "      <td>0.3580</td>\n",
       "      <td>0.718593</td>\n",
       "      <td>0.361245</td>\n",
       "      <td>0.8</td>\n",
       "      <td>0.0</td>\n",
       "    </tr>\n",
       "    <tr>\n",
       "      <th>1</th>\n",
       "      <td>0.028566</td>\n",
       "      <td>0.426396</td>\n",
       "      <td>0.1660</td>\n",
       "      <td>0.090909</td>\n",
       "      <td>0.597377</td>\n",
       "      <td>1.0</td>\n",
       "      <td>0.079067</td>\n",
       "      <td>0.927711</td>\n",
       "      <td>0.000006</td>\n",
       "      <td>0.1010</td>\n",
       "      <td>0.268342</td>\n",
       "      <td>0.318397</td>\n",
       "      <td>0.8</td>\n",
       "      <td>0.0</td>\n",
       "    </tr>\n",
       "    <tr>\n",
       "      <th>2</th>\n",
       "      <td>0.040255</td>\n",
       "      <td>0.444670</td>\n",
       "      <td>0.3590</td>\n",
       "      <td>0.000000</td>\n",
       "      <td>0.736123</td>\n",
       "      <td>1.0</td>\n",
       "      <td>0.057720</td>\n",
       "      <td>0.210843</td>\n",
       "      <td>0.000000</td>\n",
       "      <td>0.1170</td>\n",
       "      <td>0.120603</td>\n",
       "      <td>0.313643</td>\n",
       "      <td>0.8</td>\n",
       "      <td>0.0</td>\n",
       "    </tr>\n",
       "    <tr>\n",
       "      <th>3</th>\n",
       "      <td>0.038557</td>\n",
       "      <td>0.270051</td>\n",
       "      <td>0.0596</td>\n",
       "      <td>0.000000</td>\n",
       "      <td>0.573701</td>\n",
       "      <td>1.0</td>\n",
       "      <td>0.037617</td>\n",
       "      <td>0.908635</td>\n",
       "      <td>0.000071</td>\n",
       "      <td>0.1320</td>\n",
       "      <td>0.143719</td>\n",
       "      <td>0.746758</td>\n",
       "      <td>0.6</td>\n",
       "      <td>0.0</td>\n",
       "    </tr>\n",
       "    <tr>\n",
       "      <th>4</th>\n",
       "      <td>0.037969</td>\n",
       "      <td>0.627411</td>\n",
       "      <td>0.4430</td>\n",
       "      <td>0.181818</td>\n",
       "      <td>0.737103</td>\n",
       "      <td>1.0</td>\n",
       "      <td>0.054508</td>\n",
       "      <td>0.470884</td>\n",
       "      <td>0.000000</td>\n",
       "      <td>0.0829</td>\n",
       "      <td>0.167839</td>\n",
       "      <td>0.492863</td>\n",
       "      <td>0.8</td>\n",
       "      <td>0.0</td>\n",
       "    </tr>\n",
       "    <tr>\n",
       "      <th>...</th>\n",
       "      <td>...</td>\n",
       "      <td>...</td>\n",
       "      <td>...</td>\n",
       "      <td>...</td>\n",
       "      <td>...</td>\n",
       "      <td>...</td>\n",
       "      <td>...</td>\n",
       "      <td>...</td>\n",
       "      <td>...</td>\n",
       "      <td>...</td>\n",
       "      <td>...</td>\n",
       "      <td>...</td>\n",
       "      <td>...</td>\n",
       "      <td>...</td>\n",
       "    </tr>\n",
       "    <tr>\n",
       "      <th>131963</th>\n",
       "      <td>0.040450</td>\n",
       "      <td>0.394924</td>\n",
       "      <td>0.4310</td>\n",
       "      <td>0.636364</td>\n",
       "      <td>0.767068</td>\n",
       "      <td>1.0</td>\n",
       "      <td>0.035648</td>\n",
       "      <td>0.250000</td>\n",
       "      <td>0.000000</td>\n",
       "      <td>0.1300</td>\n",
       "      <td>0.276382</td>\n",
       "      <td>0.584044</td>\n",
       "      <td>0.8</td>\n",
       "      <td>0.0</td>\n",
       "    </tr>\n",
       "    <tr>\n",
       "      <th>131964</th>\n",
       "      <td>0.050064</td>\n",
       "      <td>0.663959</td>\n",
       "      <td>0.8300</td>\n",
       "      <td>0.909091</td>\n",
       "      <td>0.827368</td>\n",
       "      <td>1.0</td>\n",
       "      <td>0.037927</td>\n",
       "      <td>0.000632</td>\n",
       "      <td>0.000001</td>\n",
       "      <td>0.1210</td>\n",
       "      <td>0.550754</td>\n",
       "      <td>0.513572</td>\n",
       "      <td>0.8</td>\n",
       "      <td>0.0</td>\n",
       "    </tr>\n",
       "    <tr>\n",
       "      <th>131965</th>\n",
       "      <td>0.051744</td>\n",
       "      <td>0.727919</td>\n",
       "      <td>0.2980</td>\n",
       "      <td>0.545455</td>\n",
       "      <td>0.745316</td>\n",
       "      <td>0.0</td>\n",
       "      <td>0.040829</td>\n",
       "      <td>0.557229</td>\n",
       "      <td>0.002930</td>\n",
       "      <td>0.0997</td>\n",
       "      <td>0.263317</td>\n",
       "      <td>0.476797</td>\n",
       "      <td>0.8</td>\n",
       "      <td>0.0</td>\n",
       "    </tr>\n",
       "    <tr>\n",
       "      <th>131966</th>\n",
       "      <td>0.032863</td>\n",
       "      <td>0.753299</td>\n",
       "      <td>0.5210</td>\n",
       "      <td>0.000000</td>\n",
       "      <td>0.789579</td>\n",
       "      <td>1.0</td>\n",
       "      <td>0.045699</td>\n",
       "      <td>0.025301</td>\n",
       "      <td>0.023000</td>\n",
       "      <td>0.5810</td>\n",
       "      <td>0.649246</td>\n",
       "      <td>0.513749</td>\n",
       "      <td>0.8</td>\n",
       "      <td>0.0</td>\n",
       "    </tr>\n",
       "    <tr>\n",
       "      <th>131967</th>\n",
       "      <td>0.043947</td>\n",
       "      <td>0.674112</td>\n",
       "      <td>0.7920</td>\n",
       "      <td>0.545455</td>\n",
       "      <td>0.818249</td>\n",
       "      <td>1.0</td>\n",
       "      <td>0.029326</td>\n",
       "      <td>0.184739</td>\n",
       "      <td>0.000417</td>\n",
       "      <td>0.1060</td>\n",
       "      <td>0.864322</td>\n",
       "      <td>0.575091</td>\n",
       "      <td>0.8</td>\n",
       "      <td>0.0</td>\n",
       "    </tr>\n",
       "  </tbody>\n",
       "</table>\n",
       "<p>131968 rows × 14 columns</p>\n",
       "</div>"
      ],
      "text/plain": [
       "        duration_ms  danceability  energy       key  loudness  mode  \\\n",
       "0          0.044043      0.686294  0.4610  0.090909  0.791392   0.0   \n",
       "1          0.028566      0.426396  0.1660  0.090909  0.597377   1.0   \n",
       "2          0.040255      0.444670  0.3590  0.000000  0.736123   1.0   \n",
       "3          0.038557      0.270051  0.0596  0.000000  0.573701   1.0   \n",
       "4          0.037969      0.627411  0.4430  0.181818  0.737103   1.0   \n",
       "...             ...           ...     ...       ...       ...   ...   \n",
       "131963     0.040450      0.394924  0.4310  0.636364  0.767068   1.0   \n",
       "131964     0.050064      0.663959  0.8300  0.909091  0.827368   1.0   \n",
       "131965     0.051744      0.727919  0.2980  0.545455  0.745316   0.0   \n",
       "131966     0.032863      0.753299  0.5210  0.000000  0.789579   1.0   \n",
       "131967     0.043947      0.674112  0.7920  0.545455  0.818249   1.0   \n",
       "\n",
       "        speechiness  acousticness  instrumentalness  liveness   valence  \\\n",
       "0          0.148187      0.032329          0.000001    0.3580  0.718593   \n",
       "1          0.079067      0.927711          0.000006    0.1010  0.268342   \n",
       "2          0.057720      0.210843          0.000000    0.1170  0.120603   \n",
       "3          0.037617      0.908635          0.000071    0.1320  0.143719   \n",
       "4          0.054508      0.470884          0.000000    0.0829  0.167839   \n",
       "...             ...           ...               ...       ...       ...   \n",
       "131963     0.035648      0.250000          0.000000    0.1300  0.276382   \n",
       "131964     0.037927      0.000632          0.000001    0.1210  0.550754   \n",
       "131965     0.040829      0.557229          0.002930    0.0997  0.263317   \n",
       "131966     0.045699      0.025301          0.023000    0.5810  0.649246   \n",
       "131967     0.029326      0.184739          0.000417    0.1060  0.864322   \n",
       "\n",
       "           tempo  time_signature  explicit  \n",
       "0       0.361245             0.8       0.0  \n",
       "1       0.318397             0.8       0.0  \n",
       "2       0.313643             0.8       0.0  \n",
       "3       0.746758             0.6       0.0  \n",
       "4       0.492863             0.8       0.0  \n",
       "...          ...             ...       ...  \n",
       "131963  0.584044             0.8       0.0  \n",
       "131964  0.513572             0.8       0.0  \n",
       "131965  0.476797             0.8       0.0  \n",
       "131966  0.513749             0.8       0.0  \n",
       "131967  0.575091             0.8       0.0  \n",
       "\n",
       "[131968 rows x 14 columns]"
      ]
     },
     "execution_count": 10,
     "metadata": {},
     "output_type": "execute_result"
    }
   ],
   "source": [
    "X_resampled = X_resampled.drop('popularity', axis = 1)\n",
    "X_resampled"
   ]
  },
  {
   "cell_type": "code",
   "execution_count": 11,
   "id": "4aefc16d",
   "metadata": {},
   "outputs": [
    {
     "data": {
      "text/plain": [
       "1.0    65984\n",
       "0.0    65984\n",
       "Name: popularityClassifier, dtype: int64"
      ]
     },
     "execution_count": 11,
     "metadata": {},
     "output_type": "execute_result"
    }
   ],
   "source": [
    "y_resampled.value_counts()"
   ]
  },
  {
   "cell_type": "markdown",
   "id": "9c286ea4",
   "metadata": {},
   "source": [
    "# 3. Modelo Básico e Dummy\n",
    "**Aqui inicio a fase de teste e otimização**\n",
    "## Dummy"
   ]
  },
  {
   "cell_type": "code",
   "execution_count": 12,
   "id": "4a5401ec",
   "metadata": {},
   "outputs": [],
   "source": [
    "from sklearn.dummy import DummyClassifier\n",
    "from sklearn.model_selection import train_test_split"
   ]
  },
  {
   "cell_type": "code",
   "execution_count": 13,
   "id": "b73bab70",
   "metadata": {},
   "outputs": [],
   "source": [
    "X, x_validacao, Y, y_validacao = train_test_split(X_resampled, y_resampled, test_size=0.2, shuffle=True)\n",
    "x_treino, x_teste, y_treino, y_teste = train_test_split(X, Y, test_size=0.2, shuffle=True)"
   ]
  },
  {
   "cell_type": "code",
   "execution_count": 14,
   "id": "a142de18",
   "metadata": {},
   "outputs": [
    {
     "data": {
      "text/plain": [
       "DummyClassifier()"
      ]
     },
     "execution_count": 14,
     "metadata": {},
     "output_type": "execute_result"
    }
   ],
   "source": [
    "Dummy = DummyClassifier(strategy='prior')\n",
    "Dummy.fit(x_treino, y_treino)"
   ]
  },
  {
   "cell_type": "code",
   "execution_count": 15,
   "id": "eaf2ae57",
   "metadata": {},
   "outputs": [
    {
     "data": {
      "text/plain": [
       "0.5"
      ]
     },
     "execution_count": 15,
     "metadata": {},
     "output_type": "execute_result"
    }
   ],
   "source": [
    "Dummy.score(X_resampled, y_resampled)"
   ]
  },
  {
   "cell_type": "markdown",
   "id": "adf5fbb7",
   "metadata": {},
   "source": [
    "## Modelo Simples com Cross_validate"
   ]
  },
  {
   "cell_type": "code",
   "execution_count": 16,
   "id": "cc7ec062",
   "metadata": {},
   "outputs": [],
   "source": [
    "from sklearn.model_selection import cross_validate\n",
    "from sklearn.tree import DecisionTreeClassifier\n",
    "from sklearn.model_selection import KFold"
   ]
  },
  {
   "cell_type": "code",
   "execution_count": 17,
   "id": "fb2bebf2",
   "metadata": {},
   "outputs": [],
   "source": [
    "def imprime_resultados(results):\n",
    "  media = results['test_score'].mean()\n",
    "  std = results['test_score'].std()\n",
    "  print('acuracia media: [%.2f]'%( media*100))\n",
    "  print('acuracia intervalo: [%.2f, %.2f]'%( (media-2*std)*100, (media+2*std)*100))"
   ]
  },
  {
   "cell_type": "code",
   "execution_count": 18,
   "id": "7ad13ecf",
   "metadata": {},
   "outputs": [
    {
     "name": "stdout",
     "output_type": "stream",
     "text": [
      "acuracia media: [62.52]\n",
      "acuracia intervalo: [61.15, 63.90]\n"
     ]
    }
   ],
   "source": [
    "SEED = 42\n",
    "np.random.seed(SEED)\n",
    "\n",
    "cv = KFold(n_splits = 10, shuffle = True)\n",
    "\n",
    "modelo = DecisionTreeClassifier(max_depth = 5)\n",
    "results = cross_validate(modelo, x_treino, y_treino, cv = cv)\n",
    "imprime_resultados(results)"
   ]
  },
  {
   "cell_type": "markdown",
   "id": "c24f977d",
   "metadata": {},
   "source": [
    "O modelo do DecisionTree é melhor que o Dummy. Que é um avanço!\n",
    "\n",
    "# 4. Avaliando Métricas\n"
   ]
  },
  {
   "cell_type": "code",
   "execution_count": 19,
   "id": "54b62439",
   "metadata": {},
   "outputs": [],
   "source": [
    "from sklearn.metrics import accuracy_score, precision_score,confusion_matrix"
   ]
  },
  {
   "cell_type": "code",
   "execution_count": 20,
   "id": "4e06c521",
   "metadata": {},
   "outputs": [],
   "source": [
    "def metricas(yprevisto):\n",
    "    acuracy = round(accuracy_score(y_teste, yprevisto),2)*100\n",
    "    precisao = round(precision_score(y_teste, yprevisto),2)*100\n",
    "    \n",
    "    print(f'Acurácia: {acuracy} \\n Precisão: {precisao}')\n",
    "    \n",
    "    print(confusion_matrix(y_teste,yprevisto))"
   ]
  },
  {
   "cell_type": "code",
   "execution_count": 21,
   "id": "0ae4f4c2",
   "metadata": {},
   "outputs": [
    {
     "name": "stdout",
     "output_type": "stream",
     "text": [
      "Acurácia: 62.0 \n",
      " Precisão: 57.99999999999999\n",
      "[[4001 6575]\n",
      " [1412 9127]]\n"
     ]
    }
   ],
   "source": [
    "modelo.fit(x_treino, y_treino)\n",
    "DT_previsao = modelo.predict(x_teste)\n",
    "metricas(DT_previsao)"
   ]
  },
  {
   "cell_type": "markdown",
   "id": "6f1f58f0",
   "metadata": {},
   "source": [
    "# 5. Criando outros modelos"
   ]
  },
  {
   "cell_type": "code",
   "execution_count": 22,
   "id": "c1019b28",
   "metadata": {},
   "outputs": [
    {
     "name": "stdout",
     "output_type": "stream",
     "text": [
      "acuracia media: [55.57]\n",
      "acuracia intervalo: [54.62, 56.52]\n",
      "Acurácia: 55.00000000000001 \n",
      " Precisão: 56.00000000000001\n",
      "[[6766 3810]\n",
      " [5591 4948]]\n"
     ]
    }
   ],
   "source": [
    "from sklearn.naive_bayes import BernoulliNB\n",
    "\n",
    "Bnb = BernoulliNB()\n",
    "results = cross_validate(Bnb, x_treino, y_treino, cv = cv)\n",
    "imprime_resultados(results)\n",
    "Bnb.fit(x_treino, y_treino)\n",
    "Bnbprevisao = Bnb.predict(x_teste)\n",
    "metricas(Bnbprevisao)\n"
   ]
  },
  {
   "cell_type": "code",
   "execution_count": 23,
   "id": "3c2d1f9c",
   "metadata": {},
   "outputs": [
    {
     "name": "stdout",
     "output_type": "stream",
     "text": [
      "acuracia media: [79.82]\n",
      "acuracia intervalo: [78.76, 80.88]\n",
      "Acurácia: 81.0 \n",
      " Precisão: 74.0\n",
      "[[ 7045  3531]\n",
      " [  403 10136]]\n"
     ]
    }
   ],
   "source": [
    "from sklearn.neighbors import KNeighborsClassifier\n",
    "\n",
    "Knc = KNeighborsClassifier()\n",
    "results = cross_validate(Knc, x_treino, y_treino, cv = cv)\n",
    "imprime_resultados(results)\n",
    "\n",
    "Knc.fit(x_treino, y_treino)\n",
    "Kncprevisao = Knc.predict(x_teste)\n",
    "metricas(Kncprevisao)"
   ]
  },
  {
   "cell_type": "markdown",
   "id": "1fa4111a",
   "metadata": {},
   "source": [
    "O modelo KneighborsClassifier está tendo resultados melhores que os outros modelos. Na matrix confusão ele apresenta menos erros. Enquanto a árvore de decisão erra dizendo que tem mais negativos que positivos, o Bernoulli diz que tem mais positivos. O Kneighbors apresenta menos erros nos falsos positivos e negativos que os outros dois modelos. \n",
    "\n",
    "Para seguir para os hiperparâmetros utilizarei o KneighborsClassifier\n",
    "\n",
    "# 6. Otimização de Hiperparâmetros"
   ]
  },
  {
   "cell_type": "code",
   "execution_count": 122,
   "id": "61521e06",
   "metadata": {},
   "outputs": [
    {
     "name": "stdout",
     "output_type": "stream",
     "text": [
      "3 Vizinhos:\n",
      "acuracia media: [85.29]\n",
      "acuracia intervalo: [84.61, 85.98]\n",
      "4 Vizinhos:\n",
      "acuracia media: [83.76]\n",
      "acuracia intervalo: [82.99, 84.53]\n",
      "5 Vizinhos:\n",
      "acuracia media: [79.64]\n",
      "acuracia intervalo: [78.95, 80.34]\n",
      "6 Vizinhos:\n",
      "acuracia media: [77.95]\n",
      "acuracia intervalo: [77.45, 78.45]\n",
      "7 Vizinhos:\n",
      "acuracia media: [75.40]\n",
      "acuracia intervalo: [74.31, 76.48]\n",
      "8 Vizinhos:\n",
      "acuracia media: [74.38]\n",
      "acuracia intervalo: [73.57, 75.19]\n",
      "9 Vizinhos:\n",
      "acuracia media: [73.11]\n",
      "acuracia intervalo: [72.06, 74.17]\n"
     ]
    }
   ],
   "source": [
    "for i in range(3, 10):\n",
    "    Knc = KNeighborsClassifier(n_neighbors= i)\n",
    "    results = cross_validate(Knc, x_treino, y_treino, cv = cv)\n",
    "    print(f'{i} Vizinhos:')\n",
    "    imprime_resultados(results)"
   ]
  },
  {
   "cell_type": "code",
   "execution_count": 123,
   "id": "859caf42",
   "metadata": {},
   "outputs": [
    {
     "name": "stdout",
     "output_type": "stream",
     "text": [
      "15 Vizinhos:\n",
      "acuracia media: [70.26]\n",
      "acuracia intervalo: [69.46, 71.05]\n",
      "16 Vizinhos:\n",
      "acuracia media: [70.35]\n",
      "acuracia intervalo: [69.34, 71.35]\n",
      "17 Vizinhos:\n",
      "acuracia media: [69.99]\n",
      "acuracia intervalo: [68.92, 71.06]\n",
      "18 Vizinhos:\n",
      "acuracia media: [69.93]\n",
      "acuracia intervalo: [68.71, 71.14]\n",
      "19 Vizinhos:\n",
      "acuracia media: [69.38]\n",
      "acuracia intervalo: [68.42, 70.34]\n",
      "20 Vizinhos:\n",
      "acuracia media: [69.30]\n",
      "acuracia intervalo: [68.46, 70.13]\n"
     ]
    }
   ],
   "source": [
    "for i in range(15, 21):\n",
    "    Knc = KNeighborsClassifier(n_neighbors= i)\n",
    "    results = cross_validate(Knc, x_treino, y_treino, cv = cv)\n",
    "    print(f'{i} Vizinhos:')\n",
    "    imprime_resultados(results)"
   ]
  },
  {
   "cell_type": "code",
   "execution_count": 125,
   "id": "98f4a401",
   "metadata": {},
   "outputs": [
    {
     "name": "stdout",
     "output_type": "stream",
     "text": [
      "uniform weight:\n",
      "acuracia media: [79.75]\n",
      "acuracia intervalo: [79.00, 80.49]\n",
      "distance weight:\n",
      "acuracia media: [82.52]\n",
      "acuracia intervalo: [81.42, 83.63]\n"
     ]
    }
   ],
   "source": [
    "for i in ['uniform','distance']:\n",
    "    Knc = KNeighborsClassifier(weights= i)\n",
    "    results = cross_validate(Knc, x_treino, y_treino, cv = cv)\n",
    "    print(f'{i} weight:')\n",
    "    imprime_resultados(results)"
   ]
  },
  {
   "cell_type": "code",
   "execution_count": 126,
   "id": "ea43517c",
   "metadata": {},
   "outputs": [
    {
     "name": "stdout",
     "output_type": "stream",
     "text": [
      "2 Vizinhos e uniform weights:\n",
      "acuracia media: [90.86]\n",
      "acuracia intervalo: [90.42, 91.30]\n",
      "2 Vizinhos e distance weights:\n",
      "acuracia media: [91.87]\n",
      "acuracia intervalo: [91.35, 92.39]\n",
      "3 Vizinhos e uniform weights:\n",
      "acuracia media: [85.27]\n",
      "acuracia intervalo: [84.47, 86.06]\n",
      "3 Vizinhos e distance weights:\n",
      "acuracia media: [86.36]\n",
      "acuracia intervalo: [85.63, 87.09]\n",
      "4 Vizinhos e uniform weights:\n",
      "acuracia media: [83.63]\n",
      "acuracia intervalo: [82.57, 84.69]\n",
      "4 Vizinhos e distance weights:\n",
      "acuracia media: [86.53]\n",
      "acuracia intervalo: [86.10, 86.97]\n",
      "5 Vizinhos e uniform weights:\n",
      "acuracia media: [79.74]\n",
      "acuracia intervalo: [78.74, 80.74]\n",
      "5 Vizinhos e distance weights:\n",
      "acuracia media: [82.47]\n",
      "acuracia intervalo: [81.86, 83.08]\n",
      "6 Vizinhos e uniform weights:\n",
      "acuracia media: [77.96]\n",
      "acuracia intervalo: [76.63, 79.30]\n",
      "6 Vizinhos e distance weights:\n",
      "acuracia media: [83.12]\n",
      "acuracia intervalo: [82.72, 83.52]\n"
     ]
    }
   ],
   "source": [
    "for i in range(2, 7):\n",
    "    for y in ['uniform','distance']:\n",
    "        Knc = KNeighborsClassifier(n_neighbors= i, weights = y)\n",
    "        results = cross_validate(Knc, x_treino, y_treino, cv = cv)\n",
    "        print(f'{i} Vizinhos e {y} weights:')\n",
    "        imprime_resultados(results)"
   ]
  },
  {
   "cell_type": "code",
   "execution_count": 128,
   "id": "7b6fc45e",
   "metadata": {},
   "outputs": [
    {
     "name": "stdout",
     "output_type": "stream",
     "text": [
      "2 Vizinhos e distance weights:\n",
      "acuracia media: [91.83]\n",
      "acuracia intervalo: [91.29, 92.37]\n",
      "3 Vizinhos e distance weights:\n",
      "acuracia media: [86.40]\n",
      "acuracia intervalo: [85.60, 87.19]\n"
     ]
    }
   ],
   "source": [
    "for i in range(2, 4):\n",
    "    Knc = KNeighborsClassifier(n_neighbors= i, weights = 'distance', p=2)\n",
    "    results = cross_validate(Knc, x_treino, y_treino, cv = cv)\n",
    "    print(f'{i} Vizinhos e {y} weights:')\n",
    "    imprime_resultados(results)"
   ]
  },
  {
   "cell_type": "markdown",
   "id": "516ade05",
   "metadata": {},
   "source": [
    "Mexendo em alguns hiperparâmetors vi que os melhores são: n_neighbors = 2, weights = 'distancia, p=2\n",
    "# 7. Validação"
   ]
  },
  {
   "cell_type": "code",
   "execution_count": 24,
   "id": "0699761d",
   "metadata": {},
   "outputs": [
    {
     "name": "stdout",
     "output_type": "stream",
     "text": [
      "acuracia media: [91.87]\n",
      "acuracia intervalo: [91.43, 92.31]\n",
      "Acurácia: 93.0 \n",
      " Precisão: 87.0\n",
      "[[ 9057  1519]\n",
      " [   47 10492]]\n"
     ]
    }
   ],
   "source": [
    "Knc = KNeighborsClassifier(n_neighbors= 2, weights = 'distance', p=2)\n",
    "results = cross_validate(Knc, x_treino, y_treino, cv = cv)\n",
    "imprime_resultados(results)\n",
    "\n",
    "Knc.fit(x_treino, y_treino)\n",
    "Kncprevisao = Knc.predict(x_teste)\n",
    "metricas(Kncprevisao)"
   ]
  },
  {
   "cell_type": "code",
   "execution_count": 25,
   "id": "d86b878e",
   "metadata": {},
   "outputs": [
    {
     "name": "stdout",
     "output_type": "stream",
     "text": [
      "Acurácia: 93.0 \n",
      " Precisão: 88.0\n"
     ]
    }
   ],
   "source": [
    "Kncvalidacao = Knc.predict(x_validacao)\n",
    "\n",
    "acuracy = round(accuracy_score(y_validacao, Kncvalidacao),2)*100\n",
    "precisao = round(precision_score(y_validacao, Kncvalidacao),2)*100\n",
    "    \n",
    "print(f'Acurácia: {acuracy} \\n Precisão: {precisao}')\n"
   ]
  },
  {
   "cell_type": "markdown",
   "id": "45ade614",
   "metadata": {},
   "source": [
    "O modelo está validado!\n",
    "\n",
    "Com Acurácia Média de 91.79%, e intervalo entre 91.22 e 92.36. Temos como resultados da validação acurácia de 92%, dentro do intervalo. "
   ]
  },
  {
   "cell_type": "code",
   "execution_count": 161,
   "id": "68213918",
   "metadata": {},
   "outputs": [
    {
     "data": {
      "text/plain": [
       "Text(0.45, 91.5, 'Acurácia Média: 91.8% \\nIntervalo da Acurácia: 91.22% e 92.36%.')"
      ]
     },
     "execution_count": 161,
     "metadata": {},
     "output_type": "execute_result"
    },
    {
     "data": {
      "image/png": "[encoded data removed]",
      "text/plain": [
       "<Figure size 720x432 with 1 Axes>"
      ]
     },
     "metadata": {
      "needs_background": "light"
     },
     "output_type": "display_data"
    }
   ],
   "source": [
    "plt.figure(figsize = (10, 6))\n",
    "plt.bar(x = ['Acurácia','Precisão'], height = [acuracy, precisao], color = ['darkblue','gray'])\n",
    "plt.title('Acurácia e Precisao da Validação', fontsize = 18)\n",
    "plt.ylabel('Porcentagem', fontsize = 14)\n",
    "plt.ylim(0, 100)\n",
    "\n",
    "plt.text(x = 0.45, y = 91.5, s = 'Acurácia Média: 91.8% \\nIntervalo da Acurácia: 91.22% e 92.36%.', fontsize = 12,\n",
    "         fontweight = 'roman')"
   ]
  },
  {
   "cell_type": "markdown",
   "id": "af49ec9d",
   "metadata": {},
   "source": [
    "<font color = 'green' size =6>7 Days Of Code Dia 4: Outras Formas de Progredir em Baseline</font>\n",
    "\n",
    "O objetivo neste dia 4 adiante é realizar as tarefas dos dias de forma diferente que eu fiz a primeira vez.\n",
    "Neste dia em específico vou realizar a criação da **baseline**, a qual na primeira vez foi realizada usando DummyClassifier. A baseline Dummy teve 50% de acurácia. \n"
   ]
  },
  {
   "cell_type": "code",
   "execution_count": 32,
   "id": "ab1bd33a",
   "metadata": {},
   "outputs": [],
   "source": [
    "import numpy as np\n",
    "import pandas as pd\n",
    "import matplotlib.pyplot as plt\n",
    "df = pd.read_csv('https://raw.githubusercontent.com/KaueAbbe/7DaysofCode_ML/main/dataset_normalizado.csv')\n",
    "valores_popular = df.popularity.values\n",
    "condlist = [valores_popular >= 0.6]\n",
    "choicelist = [valores_popular]\n",
    "clas_popular = np.select(condlist, [np.ones((1,len(choicelist[0])))], 0)\n",
    "df['popularityClassifier'] = clas_popular[0]\n",
    "\n",
    "from imblearn.over_sampling import RandomOverSampler\n",
    "X = df.drop(['popularityClassifier','duration_ms'], axis = 1)\n",
    "y = df['popularityClassifier']\n",
    "ros = RandomOverSampler(random_state=0)\n",
    "X_resampled, y_resampled = ros.fit_resample(X, y)\n",
    "X_resampled = X_resampled.drop('popularity', axis = 1)\n",
    "\n",
    "\n",
    "from sklearn.model_selection import train_test_split\n",
    "X, x_validacao, Y, y_validacao = train_test_split(X_resampled, y_resampled, test_size=0.2, shuffle=True)\n",
    "x_treino, x_teste, y_treino, y_teste = train_test_split(X, Y, test_size=0.2, shuffle=True)"
   ]
  },
  {
   "cell_type": "code",
   "execution_count": 23,
   "id": "97650321",
   "metadata": {},
   "outputs": [],
   "source": [
    "from sklearn.linear_model import LogisticRegression\n",
    "from sklearn.model_selection import cross_validate\n",
    "from sklearn.model_selection import KFold"
   ]
  },
  {
   "cell_type": "code",
   "execution_count": 33,
   "id": "053fbb27",
   "metadata": {},
   "outputs": [],
   "source": [
    "LR = LogisticRegression()"
   ]
  },
  {
   "cell_type": "code",
   "execution_count": 34,
   "id": "4fdc7ffc",
   "metadata": {},
   "outputs": [
    {
     "data": {
      "text/plain": [
       "LogisticRegression()"
      ]
     },
     "execution_count": 34,
     "metadata": {},
     "output_type": "execute_result"
    }
   ],
   "source": [
    "LR.fit(x_treino, y_treino)"
   ]
  },
  {
   "cell_type": "code",
   "execution_count": 35,
   "id": "8f4e4e3d",
   "metadata": {},
   "outputs": [],
   "source": [
    "y_previsto = LR.predict(x_teste)"
   ]
  },
  {
   "cell_type": "code",
   "execution_count": 36,
   "id": "1087f342",
   "metadata": {},
   "outputs": [
    {
     "name": "stdout",
     "output_type": "stream",
     "text": [
      "acuracia media: [60.95]\n",
      "acuracia intervalo: [60.27, 61.63]\n"
     ]
    }
   ],
   "source": [
    "SEED = 42\n",
    "np.random.seed(SEED)\n",
    "\n",
    "cv = KFold(n_splits = 10, shuffle = True)\n",
    "\n",
    "modelo = LogisticRegression()\n",
    "results = cross_validate(modelo, x_treino, y_treino, cv = cv)\n",
    "imprime_resultados(results)"
   ]
  },
  {
   "cell_type": "code",
   "execution_count": 37,
   "id": "3024636b",
   "metadata": {},
   "outputs": [
    {
     "name": "stdout",
     "output_type": "stream",
     "text": [
      "Acurácia: 61.0 \n",
      " Precisão: 59.0\n",
      "[[5543 5074]\n",
      " [3134 7364]]\n"
     ]
    }
   ],
   "source": [
    "metricas(y_previsto)"
   ]
  },
  {
   "cell_type": "code",
   "execution_count": 38,
   "id": "e91d621f",
   "metadata": {},
   "outputs": [
    {
     "data": {
      "text/plain": [
       "array([[ 0.58637173, -0.84705047,  0.0070411 , -0.52732455, -0.1124284 ,\n",
       "        -1.45679308, -0.77129392, -1.49759267, -1.50336961, -0.2695139 ,\n",
       "        -0.62652396,  0.35190018,  0.60511139]])"
      ]
     },
     "execution_count": 38,
     "metadata": {},
     "output_type": "execute_result"
    }
   ],
   "source": [
    "LR.coef_"
   ]
  },
  {
   "cell_type": "code",
   "execution_count": 43,
   "id": "1d0b7da8",
   "metadata": {},
   "outputs": [
    {
     "data": {
      "text/plain": [
       "array([1.64711833])"
      ]
     },
     "execution_count": 43,
     "metadata": {},
     "output_type": "execute_result"
    }
   ],
   "source": [
    "LR.intercept_"
   ]
  },
  {
   "cell_type": "code",
   "execution_count": 29,
   "id": "94d1f654",
   "metadata": {},
   "outputs": [],
   "source": [
    "from yellowbrick.model_selection import FeatureImportances"
   ]
  },
  {
   "cell_type": "code",
   "execution_count": 41,
   "id": "0848fa7f",
   "metadata": {},
   "outputs": [
    {
     "name": "stderr",
     "output_type": "stream",
     "text": [
      "C:\\Users\\kauea\\anaconda3\\lib\\site-packages\\sklearn\\base.py:450: UserWarning: X does not have valid feature names, but LogisticRegression was fitted with feature names\n",
      "  warnings.warn(\n",
      "C:\\Users\\kauea\\anaconda3\\lib\\site-packages\\yellowbrick\\model_selection\\importances.py:194: YellowbrickWarning: detected multi-dimensional feature importances but stack=False, using mean to aggregate them.\n",
      "  warnings.warn(\n"
     ]
    },
    {
     "data": {
      "image/png": "[encoded data removed]",
      "text/plain": [
       "<Figure size 576x396 with 1 Axes>"
      ]
     },
     "metadata": {},
     "output_type": "display_data"
    },
    {
     "data": {
      "text/plain": [
       "<AxesSubplot:title={'center':'Feature Importances of 13 Features using LogisticRegression'}, xlabel='relative coefficient magnitude'>"
      ]
     },
     "execution_count": 41,
     "metadata": {},
     "output_type": "execute_result"
    }
   ],
   "source": [
    "viz = FeatureImportances(LR)\n",
    "viz.fit(x_treino, y_treino)\n",
    "viz.show()"
   ]
  },
  {
   "cell_type": "markdown",
   "id": "89ba7d8a",
   "metadata": {},
   "source": [
    "### Anotações\n",
    "Temos então que a mudança de BaseLine para LogisticRegression aumentou o valor da Baseline de **50% para 61.3%**. Neste cenário novo o modelo Bernoulli ficaria abaixo da Baseline, e a DecisionTree ficaria próximo dela. Neste cenário ambos os modelos seriam descartados mais rápido por não apresentar nem 10% de superioridade em relação a base.\n",
    "\n",
    "**Aprendizado para o futuro:** O Dummy é um baseline muito simples, que se for fitado com dados balanceados terá sempre acurácia de 50%. Utilize outro modelo como Baseline para estudar melhor o problema e buscar resultados melhores durante sua pesquisa.\n",
    "\n",
    "<font color = 'green' size =6>7 Days Of Code Dia 5: Outras Formas de Progredir em Métricas</font>\n",
    "\n",
    "Neste dia tenho que realizar a escolha da **métrica**, a qual na primeira vez foi escolhida a acurácia. \n",
    "\n",
    "**Acurácia:** Avalia a quantidade de acertos no geral.\n",
    "\n",
    "**Precisão:** Avalia quantos acertos com classificação positiva levando em consideração os falsos positivos. *Usado em modelos que precisa diminuir os falsos positivos*\n",
    "\n",
    "**Recall:** Avalia quantos acertos com classificação positiva levando em consideração os falsos negativos. *Usado em modelos que precisa diminuir falsos negativos*"
   ]
  },
  {
   "cell_type": "code",
   "execution_count": null,
   "id": "57261790",
   "metadata": {},
   "outputs": [],
   "source": [
    "from sklearn.metrics import accuracy_score, precision_score,confusion_matrix, recall_score,ConfusionMatrixDisplay\n",
    "disp = ConfusionMatrixDisplay.from_estimator(\n",
    "        Knc,\n",
    "        x_teste,\n",
    "        y_teste,\n",
    "        cmap=plt.cm.Blues)\n",
    "disp.ax_.set_title('Matrix')"
   ]
  },
  {
   "cell_type": "code",
   "execution_count": 38,
   "id": "0dad1f71",
   "metadata": {},
   "outputs": [],
   "source": [
    "def metricas_att(yprevisto):\n",
    "    acuracy = round(accuracy_score(y_teste, yprevisto),2)*100\n",
    "    precisao = round(precision_score(y_teste, yprevisto),2)*100\n",
    "    recall =  round(recall_score(y_teste,yprevisto),2)*100\n",
    "    \n",
    "    print(f'Acurácia: {acuracy} \\n Precisão: {precisao} \\n Recall:{recall}')\n",
    "    \n",
    "    disp = ConfusionMatrixDisplay.from_estimator(\n",
    "        Knc,\n",
    "        x_teste,\n",
    "        y_teste,\n",
    "        cmap=plt.cm.Blues)\n",
    "    disp.ax_.set_title('Matrix')"
   ]
  },
  {
   "cell_type": "code",
   "execution_count": 42,
   "id": "2442bdec",
   "metadata": {},
   "outputs": [
    {
     "name": "stdout",
     "output_type": "stream",
     "text": [
      "acuracia media: [55.53]\n",
      "acuracia intervalo: [54.58, 56.48]\n",
      "Acurácia: 56.00000000000001 \n",
      " Precisão: 56.99999999999999 \n",
      " Recall:47.0\n"
     ]
    },
    {
     "data": {
      "image/png": "[encoded data removed]",
      "text/plain": [
       "<Figure size 432x288 with 2 Axes>"
      ]
     },
     "metadata": {
      "needs_background": "light"
     },
     "output_type": "display_data"
    }
   ],
   "source": [
    "Bnb = BernoulliNB()\n",
    "results = cross_validate(Bnb, x_treino, y_treino, cv = cv)\n",
    "imprime_resultados(results)\n",
    "Bnb.fit(x_treino, y_treino)\n",
    "Bnbprevisao = Bnb.predict(x_teste)\n",
    "metricas_att(Bnbprevisao)"
   ]
  },
  {
   "cell_type": "code",
   "execution_count": 40,
   "id": "accd36ed",
   "metadata": {},
   "outputs": [
    {
     "name": "stdout",
     "output_type": "stream",
     "text": [
      "acuracia media: [79.94]\n",
      "acuracia intervalo: [79.30, 80.59]\n",
      "Acurácia: 81.0 \n",
      " Precisão: 74.0 \n",
      " Recall:96.0\n"
     ]
    },
    {
     "data": {
      "image/png": "[encoded data removed]",
      "text/plain": [
       "<Figure size 432x288 with 2 Axes>"
      ]
     },
     "metadata": {
      "needs_background": "light"
     },
     "output_type": "display_data"
    }
   ],
   "source": [
    "Knc = KNeighborsClassifier()\n",
    "results = cross_validate(Knc, x_treino, y_treino, cv = cv)\n",
    "imprime_resultados(results)\n",
    "\n",
    "Knc.fit(x_treino, y_treino)\n",
    "Kncprevisao = Knc.predict(x_teste)\n",
    "metricas_att(Kncprevisao)"
   ]
  },
  {
   "cell_type": "markdown",
   "id": "1c841f4e",
   "metadata": {},
   "source": [
    "### Anotações\n",
    "No fim optei pela mudança de métrica, de **acurácia para Recall**. O motivo se deve ao fato do Recall levar em consideração os *Falsos Negativos*, e para o contexto de avaliar popularidade de música seria mais interessante minimizar os erros de falso negativos. Dessa forma terá mais acertos quando dizer que a música não será popular.\n",
    "\n",
    "**Aprendizado para o futuro:** Dependendo do problema a qual o modelo foi proposto serão utilizadas outras métricas. Cada métrica tem uma função específica, assim como equação, e por isso tem interpretação diferente. As quantidades de Verdadeiro Positivo, Verdadeiro Negativo, Falso Positivo e Falso Negativo são vistas na Matriz Confusão, e esses valores são utilizados no cálculo de precisão e Recall. \n",
    "\n",
    "<font color = 'green' size =6>7 Days Of Code Dia 6: Outras Formas de Progredir em Balanceamento e Hiperparâmetros</font>\n",
    "\n",
    "## Balanceamento"
   ]
  },
  {
   "cell_type": "code",
   "execution_count": 54,
   "id": "4c4865fb",
   "metadata": {},
   "outputs": [],
   "source": [
    "from imblearn.under_sampling import RandomUnderSampler\n",
    "Xu = df.drop('popularityClassifier', axis = 1)\n",
    "yu = df['popularityClassifier']\n",
    "rus = RandomUnderSampler(random_state=0)\n",
    "Xu_resampled, yu_resampled = rus.fit_resample(Xu, yu)\n",
    "\n",
    "Xu_resampled = Xu_resampled.drop('popularity', axis = 1)\n",
    "X, x_validacao, Y, y_validacao = train_test_split(X_resampled, y_resampled, test_size=0.2, shuffle=True)\n",
    "x_treino, x_teste, y_treino, y_teste = train_test_split(X, Y, test_size=0.2, shuffle=True)"
   ]
  },
  {
   "cell_type": "code",
   "execution_count": 55,
   "id": "4f53ab15",
   "metadata": {},
   "outputs": [
    {
     "name": "stdout",
     "output_type": "stream",
     "text": [
      "acuracia media: [63.60]\n",
      "acuracia intervalo: [62.58, 64.63]\n"
     ]
    }
   ],
   "source": [
    "SEED = 42\n",
    "np.random.seed(SEED)\n",
    "\n",
    "cv = KFold(n_splits = 10, shuffle = True)\n",
    "\n",
    "modelo = DecisionTreeClassifier(max_depth = 5)\n",
    "results = cross_validate(modelo, x_treino, y_treino, cv = cv)\n",
    "imprime_resultados(results)"
   ]
  },
  {
   "cell_type": "code",
   "execution_count": 30,
   "id": "aaf156b2",
   "metadata": {},
   "outputs": [
    {
     "name": "stdout",
     "output_type": "stream",
     "text": [
      "acuracia media: [55.82]\n",
      "acuracia intervalo: [53.65, 57.99]\n",
      "Acurácia: 55.00000000000001 \n",
      " Precisão: 56.99999999999999\n",
      "[[775 442]\n",
      " [646 577]]\n"
     ]
    }
   ],
   "source": [
    "results = cross_validate(Bnb, x_treino, y_treino, cv = cv)\n",
    "imprime_resultados(results)\n",
    "Bnb.fit(x_treino, y_treino)\n",
    "Bnbprevisao = Bnb.predict(x_teste)\n",
    "metricas(Bnbprevisao)"
   ]
  },
  {
   "cell_type": "code",
   "execution_count": 31,
   "id": "24ca7d8d",
   "metadata": {},
   "outputs": [
    {
     "name": "stdout",
     "output_type": "stream",
     "text": [
      "acuracia media: [59.59]\n",
      "acuracia intervalo: [56.94, 62.24]\n",
      "Acurácia: 61.0 \n",
      " Precisão: 60.0\n",
      "[[690 527]\n",
      " [429 794]]\n"
     ]
    }
   ],
   "source": [
    "results = cross_validate(Knc, x_treino, y_treino, cv = cv)\n",
    "imprime_resultados(results)\n",
    "\n",
    "Knc.fit(x_treino, y_treino)\n",
    "Kncprevisao = Knc.predict(x_teste)\n",
    "metricas(Kncprevisao)"
   ]
  },
  {
   "cell_type": "markdown",
   "id": "7abfc93d",
   "metadata": {},
   "source": [
    "### Anotações\n",
    "A realização do *UnderSampling* diminuiu os resultados das métricas, mostrando que o balanceamento feito por baixo (retirando dados do dataset) não contribuiu com uma melhor aprendizagem. Por este motivo utilizar o *OverSampling* é o método indicado.\n",
    "\n",
    "**Aprendizado para o futuro:** Utilize sempre duas formas de balanceamento, pois a depender do problema pode ser que o método deo UnderSampling traga melhores resultados. Contudo, dê preferências pelo OverSampling já que ele garante mais dados para o fit.\n",
    "\n",
    "## Hiperparâmetros"
   ]
  },
  {
   "cell_type": "code",
   "execution_count": 63,
   "id": "32c50d8e",
   "metadata": {},
   "outputs": [
    {
     "name": "stdout",
     "output_type": "stream",
     "text": [
      "acuracia media: [79.87]\n",
      "acuracia intervalo: [78.94, 80.80]\n"
     ]
    }
   ],
   "source": [
    "from imblearn.over_sampling import RandomOverSampler\n",
    "X = df.drop('popularityClassifier', axis = 1)\n",
    "y = df['popularityClassifier']\n",
    "ros = RandomOverSampler(random_state=0)\n",
    "X_resampled, y_resampled = ros.fit_resample(X, y)\n",
    "X_resampled = X_resampled.drop('popularity', axis = 1)\n",
    "X, x_validacao, Y, y_validacao = train_test_split(X_resampled, y_resampled, test_size=0.2, shuffle=True)\n",
    "x_treino, x_teste, y_treino, y_teste = train_test_split(X, Y, test_size=0.2, shuffle=True)\n",
    "\n",
    "from sklearn.neighbors import KNeighborsClassifier\n",
    "\n",
    "Knc = KNeighborsClassifier()\n",
    "results = cross_validate(Knc, x_treino, y_treino, cv = cv)\n",
    "imprime_resultados(results)"
   ]
  },
  {
   "cell_type": "code",
   "execution_count": 65,
   "id": "97a412d6",
   "metadata": {},
   "outputs": [
    {
     "data": {
      "text/html": [
       "<div>\n",
       "<style scoped>\n",
       "    .dataframe tbody tr th:only-of-type {\n",
       "        vertical-align: middle;\n",
       "    }\n",
       "\n",
       "    .dataframe tbody tr th {\n",
       "        vertical-align: top;\n",
       "    }\n",
       "\n",
       "    .dataframe thead th {\n",
       "        text-align: right;\n",
       "    }\n",
       "</style>\n",
       "<table border=\"1\" class=\"dataframe\">\n",
       "  <thead>\n",
       "    <tr style=\"text-align: right;\">\n",
       "      <th></th>\n",
       "      <th>mean_fit_time</th>\n",
       "      <th>std_fit_time</th>\n",
       "      <th>mean_score_time</th>\n",
       "      <th>std_score_time</th>\n",
       "      <th>param_n_neighbors</th>\n",
       "      <th>param_p</th>\n",
       "      <th>param_weights</th>\n",
       "      <th>params</th>\n",
       "      <th>split0_test_score</th>\n",
       "      <th>split1_test_score</th>\n",
       "      <th>...</th>\n",
       "      <th>split3_test_score</th>\n",
       "      <th>split4_test_score</th>\n",
       "      <th>split5_test_score</th>\n",
       "      <th>split6_test_score</th>\n",
       "      <th>split7_test_score</th>\n",
       "      <th>split8_test_score</th>\n",
       "      <th>split9_test_score</th>\n",
       "      <th>mean_test_score</th>\n",
       "      <th>std_test_score</th>\n",
       "      <th>rank_test_score</th>\n",
       "    </tr>\n",
       "  </thead>\n",
       "  <tbody>\n",
       "    <tr>\n",
       "      <th>0</th>\n",
       "      <td>0.231523</td>\n",
       "      <td>0.036805</td>\n",
       "      <td>3.493722</td>\n",
       "      <td>0.971770</td>\n",
       "      <td>3</td>\n",
       "      <td>1</td>\n",
       "      <td>uniform</td>\n",
       "      <td>{'n_neighbors': 3, 'p': 1, 'weights': 'uniform'}</td>\n",
       "      <td>0.850343</td>\n",
       "      <td>0.855079</td>\n",
       "      <td>...</td>\n",
       "      <td>0.849870</td>\n",
       "      <td>0.846199</td>\n",
       "      <td>0.853067</td>\n",
       "      <td>0.854724</td>\n",
       "      <td>0.852948</td>\n",
       "      <td>0.857684</td>\n",
       "      <td>0.850562</td>\n",
       "      <td>0.852402</td>\n",
       "      <td>0.003082</td>\n",
       "      <td>4</td>\n",
       "    </tr>\n",
       "    <tr>\n",
       "      <th>1</th>\n",
       "      <td>0.286101</td>\n",
       "      <td>0.051702</td>\n",
       "      <td>4.142222</td>\n",
       "      <td>1.026447</td>\n",
       "      <td>3</td>\n",
       "      <td>1</td>\n",
       "      <td>distance</td>\n",
       "      <td>{'n_neighbors': 3, 'p': 1, 'weights': 'distance'}</td>\n",
       "      <td>0.860289</td>\n",
       "      <td>0.864906</td>\n",
       "      <td>...</td>\n",
       "      <td>0.861236</td>\n",
       "      <td>0.855553</td>\n",
       "      <td>0.863012</td>\n",
       "      <td>0.868932</td>\n",
       "      <td>0.862420</td>\n",
       "      <td>0.867630</td>\n",
       "      <td>0.859207</td>\n",
       "      <td>0.862738</td>\n",
       "      <td>0.003764</td>\n",
       "      <td>2</td>\n",
       "    </tr>\n",
       "    <tr>\n",
       "      <th>2</th>\n",
       "      <td>0.237938</td>\n",
       "      <td>0.026114</td>\n",
       "      <td>2.596392</td>\n",
       "      <td>0.446166</td>\n",
       "      <td>3</td>\n",
       "      <td>2</td>\n",
       "      <td>uniform</td>\n",
       "      <td>{'n_neighbors': 3, 'p': 2, 'weights': 'uniform'}</td>\n",
       "      <td>0.853422</td>\n",
       "      <td>0.856855</td>\n",
       "      <td>...</td>\n",
       "      <td>0.850343</td>\n",
       "      <td>0.850225</td>\n",
       "      <td>0.852119</td>\n",
       "      <td>0.852475</td>\n",
       "      <td>0.850699</td>\n",
       "      <td>0.857447</td>\n",
       "      <td>0.852694</td>\n",
       "      <td>0.853325</td>\n",
       "      <td>0.002660</td>\n",
       "      <td>3</td>\n",
       "    </tr>\n",
       "    <tr>\n",
       "      <th>3</th>\n",
       "      <td>0.235935</td>\n",
       "      <td>0.039246</td>\n",
       "      <td>1.974733</td>\n",
       "      <td>0.192140</td>\n",
       "      <td>3</td>\n",
       "      <td>2</td>\n",
       "      <td>distance</td>\n",
       "      <td>{'n_neighbors': 3, 'p': 2, 'weights': 'distance'}</td>\n",
       "      <td>0.862775</td>\n",
       "      <td>0.866682</td>\n",
       "      <td>...</td>\n",
       "      <td>0.861710</td>\n",
       "      <td>0.859578</td>\n",
       "      <td>0.861354</td>\n",
       "      <td>0.866682</td>\n",
       "      <td>0.860052</td>\n",
       "      <td>0.867630</td>\n",
       "      <td>0.861812</td>\n",
       "      <td>0.863673</td>\n",
       "      <td>0.003163</td>\n",
       "      <td>1</td>\n",
       "    </tr>\n",
       "    <tr>\n",
       "      <th>4</th>\n",
       "      <td>0.224505</td>\n",
       "      <td>0.032128</td>\n",
       "      <td>4.906885</td>\n",
       "      <td>0.395681</td>\n",
       "      <td>10</td>\n",
       "      <td>1</td>\n",
       "      <td>uniform</td>\n",
       "      <td>{'n_neighbors': 10, 'p': 1, 'weights': 'uniform'}</td>\n",
       "      <td>0.720341</td>\n",
       "      <td>0.730168</td>\n",
       "      <td>...</td>\n",
       "      <td>0.734075</td>\n",
       "      <td>0.727445</td>\n",
       "      <td>0.732063</td>\n",
       "      <td>0.734312</td>\n",
       "      <td>0.729695</td>\n",
       "      <td>0.727208</td>\n",
       "      <td>0.723150</td>\n",
       "      <td>0.728057</td>\n",
       "      <td>0.004675</td>\n",
       "      <td>7</td>\n",
       "    </tr>\n",
       "  </tbody>\n",
       "</table>\n",
       "<p>5 rows × 21 columns</p>\n",
       "</div>"
      ],
      "text/plain": [
       "   mean_fit_time  std_fit_time  mean_score_time  std_score_time  \\\n",
       "0       0.231523      0.036805         3.493722        0.971770   \n",
       "1       0.286101      0.051702         4.142222        1.026447   \n",
       "2       0.237938      0.026114         2.596392        0.446166   \n",
       "3       0.235935      0.039246         1.974733        0.192140   \n",
       "4       0.224505      0.032128         4.906885        0.395681   \n",
       "\n",
       "  param_n_neighbors param_p param_weights  \\\n",
       "0                 3       1       uniform   \n",
       "1                 3       1      distance   \n",
       "2                 3       2       uniform   \n",
       "3                 3       2      distance   \n",
       "4                10       1       uniform   \n",
       "\n",
       "                                              params  split0_test_score  \\\n",
       "0   {'n_neighbors': 3, 'p': 1, 'weights': 'uniform'}           0.850343   \n",
       "1  {'n_neighbors': 3, 'p': 1, 'weights': 'distance'}           0.860289   \n",
       "2   {'n_neighbors': 3, 'p': 2, 'weights': 'uniform'}           0.853422   \n",
       "3  {'n_neighbors': 3, 'p': 2, 'weights': 'distance'}           0.862775   \n",
       "4  {'n_neighbors': 10, 'p': 1, 'weights': 'uniform'}           0.720341   \n",
       "\n",
       "   split1_test_score  ...  split3_test_score  split4_test_score  \\\n",
       "0           0.855079  ...           0.849870           0.846199   \n",
       "1           0.864906  ...           0.861236           0.855553   \n",
       "2           0.856855  ...           0.850343           0.850225   \n",
       "3           0.866682  ...           0.861710           0.859578   \n",
       "4           0.730168  ...           0.734075           0.727445   \n",
       "\n",
       "   split5_test_score  split6_test_score  split7_test_score  split8_test_score  \\\n",
       "0           0.853067           0.854724           0.852948           0.857684   \n",
       "1           0.863012           0.868932           0.862420           0.867630   \n",
       "2           0.852119           0.852475           0.850699           0.857447   \n",
       "3           0.861354           0.866682           0.860052           0.867630   \n",
       "4           0.732063           0.734312           0.729695           0.727208   \n",
       "\n",
       "   split9_test_score  mean_test_score  std_test_score  rank_test_score  \n",
       "0           0.850562         0.852402        0.003082                4  \n",
       "1           0.859207         0.862738        0.003764                2  \n",
       "2           0.852694         0.853325        0.002660                3  \n",
       "3           0.861812         0.863673        0.003163                1  \n",
       "4           0.723150         0.728057        0.004675                7  \n",
       "\n",
       "[5 rows x 21 columns]"
      ]
     },
     "execution_count": 65,
     "metadata": {},
     "output_type": "execute_result"
    }
   ],
   "source": [
    "from sklearn.model_selection import GridSearchCV\n",
    "\n",
    "SEED=42\n",
    "np.random.seed(SEED)\n",
    "\n",
    "espaco_de_parametros = {\n",
    "    \"n_neighbors\" : [3, 10],\n",
    "    \"weights\": ['uniform', 'distance'],\n",
    "    \"p\": [1, 2]}\n",
    "\n",
    "busca = GridSearchCV(Knc,\n",
    "                    espaco_de_parametros,\n",
    "                    cv = cv)\n",
    "\n",
    "busca.fit(x_treino, y_treino)\n",
    "resultados = pd.DataFrame(busca.cv_results_)\n",
    "resultados.head()"
   ]
  },
  {
   "cell_type": "code",
   "execution_count": 66,
   "id": "4784904f",
   "metadata": {},
   "outputs": [
    {
     "name": "stdout",
     "output_type": "stream",
     "text": [
      "{'n_neighbors': 3, 'p': 2, 'weights': 'distance'}\n",
      "86.36734763405506\n"
     ]
    }
   ],
   "source": [
    "print(busca.best_params_)\n",
    "print(busca.best_score_ * 100)"
   ]
  },
  {
   "cell_type": "markdown",
   "id": "ba8754de",
   "metadata": {},
   "source": [
    "### Anotações\n",
    "O GridSerchCV faz o que eu fiz à mão, uma busca pelos parâmentros selecionado realizando todas as permutações de possibilidades das mesmas. E a realização do dataframe para observars os detalhes de cada resultado é um ótima ideia para entender como a variação dos hiperpâmetros influencia a acurácia.\n",
    "\n",
    "**Aprendizado para o futuro:** Utilize o GridSerchCV para quando quiser fazer buscos permutadas entre 2 ou mais hiperparâmetros. Para apenas 1 hiperparâmetro vale a pena fazer da mesma forma que fiz anteriormente.  \n",
    "\n",
    "# Pickle e Deploy"
   ]
  },
  {
   "cell_type": "code",
   "execution_count": 27,
   "id": "27c175dc",
   "metadata": {},
   "outputs": [],
   "source": [
    "import pickle"
   ]
  },
  {
   "cell_type": "code",
   "execution_count": 33,
   "id": "cd581762",
   "metadata": {},
   "outputs": [],
   "source": [
    "file = open('Classifica_musica.pkl', 'wb')\n",
    "pickle.dump(Knc ,file)"
   ]
  },
  {
   "cell_type": "code",
   "execution_count": null,
   "id": "9cecc4e6",
   "metadata": {},
   "outputs": [],
   "source": []
  }
 ],
 "metadata": {
  "kernelspec": {
   "display_name": "Python 3 (ipykernel)",
   "language": "python",
   "name": "python3"
  },
  "language_info": {
   "codemirror_mode": {
    "name": "ipython",
    "version": 3
   },
   "file_extension": ".py",
   "mimetype": "text/x-python",
   "name": "python",
   "nbconvert_exporter": "python",
   "pygments_lexer": "ipython3",
   "version": "3.9.12"
  }
 },
 "nbformat": 4,
 "nbformat_minor": 5
}
